{
 "cells": [
  {
   "cell_type": "code",
   "execution_count": 4,
   "metadata": {},
   "outputs": [],
   "source": [
    "import pandas as pd\n",
    "import matplotlib.pyplot as plt\n",
    "import numpy as np\n",
    "import seaborn as sns\n",
    "import scipy as sp\n",
    "\n",
    "path = '../dataset/'"
   ]
  },
  {
   "cell_type": "markdown",
   "metadata": {},
   "source": [
    "# 데이터 불러오기"
   ]
  },
  {
   "cell_type": "code",
   "execution_count": 5,
   "metadata": {},
   "outputs": [
    {
     "data": {
      "text/html": [
       "<div>\n",
       "<style scoped>\n",
       "    .dataframe tbody tr th:only-of-type {\n",
       "        vertical-align: middle;\n",
       "    }\n",
       "\n",
       "    .dataframe tbody tr th {\n",
       "        vertical-align: top;\n",
       "    }\n",
       "\n",
       "    .dataframe thead th {\n",
       "        text-align: right;\n",
       "    }\n",
       "</style>\n",
       "<table border=\"1\" class=\"dataframe\">\n",
       "  <thead>\n",
       "    <tr style=\"text-align: right;\">\n",
       "      <th></th>\n",
       "      <th>년도</th>\n",
       "      <th>발생</th>\n",
       "      <th>검거</th>\n",
       "      <th>검거율</th>\n",
       "      <th>살인 발생</th>\n",
       "      <th>살인 검거</th>\n",
       "      <th>강도 발생</th>\n",
       "      <th>강도 검거</th>\n",
       "      <th>강간 발생</th>\n",
       "      <th>강간 검거</th>\n",
       "      <th>절도 발생</th>\n",
       "      <th>절도 검거</th>\n",
       "      <th>폭력 발생</th>\n",
       "      <th>폭력 검거</th>\n",
       "    </tr>\n",
       "  </thead>\n",
       "  <tbody>\n",
       "    <tr>\n",
       "      <th>0</th>\n",
       "      <td>2019</td>\n",
       "      <td>13859</td>\n",
       "      <td>11597</td>\n",
       "      <td>83.7</td>\n",
       "      <td>22</td>\n",
       "      <td>21</td>\n",
       "      <td>25</td>\n",
       "      <td>26</td>\n",
       "      <td>689</td>\n",
       "      <td>650</td>\n",
       "      <td>4675</td>\n",
       "      <td>3155</td>\n",
       "      <td>8448</td>\n",
       "      <td>7745</td>\n",
       "    </tr>\n",
       "    <tr>\n",
       "      <th>1</th>\n",
       "      <td>2018</td>\n",
       "      <td>14094</td>\n",
       "      <td>11980</td>\n",
       "      <td>85.0</td>\n",
       "      <td>25</td>\n",
       "      <td>24</td>\n",
       "      <td>16</td>\n",
       "      <td>16</td>\n",
       "      <td>699</td>\n",
       "      <td>665</td>\n",
       "      <td>4300</td>\n",
       "      <td>3048</td>\n",
       "      <td>9054</td>\n",
       "      <td>8227</td>\n",
       "    </tr>\n",
       "    <tr>\n",
       "      <th>2</th>\n",
       "      <td>2017</td>\n",
       "      <td>16187</td>\n",
       "      <td>13540</td>\n",
       "      <td>83.6</td>\n",
       "      <td>32</td>\n",
       "      <td>32</td>\n",
       "      <td>27</td>\n",
       "      <td>26</td>\n",
       "      <td>627</td>\n",
       "      <td>591</td>\n",
       "      <td>5248</td>\n",
       "      <td>3628</td>\n",
       "      <td>10253</td>\n",
       "      <td>9263</td>\n",
       "    </tr>\n",
       "    <tr>\n",
       "      <th>3</th>\n",
       "      <td>2016</td>\n",
       "      <td>16678</td>\n",
       "      <td>14037</td>\n",
       "      <td>84.2</td>\n",
       "      <td>28</td>\n",
       "      <td>29</td>\n",
       "      <td>28</td>\n",
       "      <td>29</td>\n",
       "      <td>603</td>\n",
       "      <td>570</td>\n",
       "      <td>5166</td>\n",
       "      <td>3568</td>\n",
       "      <td>10853</td>\n",
       "      <td>9841</td>\n",
       "    </tr>\n",
       "    <tr>\n",
       "      <th>4</th>\n",
       "      <td>2015</td>\n",
       "      <td>16441</td>\n",
       "      <td>13020</td>\n",
       "      <td>79.2</td>\n",
       "      <td>33</td>\n",
       "      <td>31</td>\n",
       "      <td>35</td>\n",
       "      <td>35</td>\n",
       "      <td>577</td>\n",
       "      <td>544</td>\n",
       "      <td>5966</td>\n",
       "      <td>3740</td>\n",
       "      <td>9830</td>\n",
       "      <td>8670</td>\n",
       "    </tr>\n",
       "    <tr>\n",
       "      <th>5</th>\n",
       "      <td>2014</td>\n",
       "      <td>16487</td>\n",
       "      <td>12004</td>\n",
       "      <td>72.8</td>\n",
       "      <td>25</td>\n",
       "      <td>24</td>\n",
       "      <td>56</td>\n",
       "      <td>55</td>\n",
       "      <td>582</td>\n",
       "      <td>560</td>\n",
       "      <td>6203</td>\n",
       "      <td>2988</td>\n",
       "      <td>9621</td>\n",
       "      <td>8377</td>\n",
       "    </tr>\n",
       "  </tbody>\n",
       "</table>\n",
       "</div>"
      ],
      "text/plain": [
       "     년도     발생     검거   검거율  살인 발생  살인 검거  강도 발생  강도 검거  강간 발생  강간 검거  절도 발생  \\\n",
       "0  2019  13859  11597  83.7     22     21     25     26    689    650   4675   \n",
       "1  2018  14094  11980  85.0     25     24     16     16    699    665   4300   \n",
       "2  2017  16187  13540  83.6     32     32     27     26    627    591   5248   \n",
       "3  2016  16678  14037  84.2     28     29     28     29    603    570   5166   \n",
       "4  2015  16441  13020  79.2     33     31     35     35    577    544   5966   \n",
       "5  2014  16487  12004  72.8     25     24     56     55    582    560   6203   \n",
       "\n",
       "   절도 검거  폭력 발생  폭력 검거  \n",
       "0   3155   8448   7745  \n",
       "1   3048   9054   8227  \n",
       "2   3628  10253   9263  \n",
       "3   3568  10853   9841  \n",
       "4   3740   9830   8670  \n",
       "5   2988   9621   8377  "
      ]
     },
     "execution_count": 5,
     "metadata": {},
     "output_type": "execute_result"
    }
   ],
   "source": [
    "# CSV 파일로 불러오기\n",
    "data = pd.read_csv(f'{path}경찰청 강원도경찰청_5대범죄 발생 및 검거 현황_20191231.csv')\n",
    "data"
   ]
  },
  {
   "cell_type": "code",
   "execution_count": 6,
   "metadata": {},
   "outputs": [
    {
     "data": {
      "text/html": [
       "<div>\n",
       "<style scoped>\n",
       "    .dataframe tbody tr th:only-of-type {\n",
       "        vertical-align: middle;\n",
       "    }\n",
       "\n",
       "    .dataframe tbody tr th {\n",
       "        vertical-align: top;\n",
       "    }\n",
       "\n",
       "    .dataframe thead th {\n",
       "        text-align: right;\n",
       "    }\n",
       "</style>\n",
       "<table border=\"1\" class=\"dataframe\">\n",
       "  <thead>\n",
       "    <tr style=\"text-align: right;\">\n",
       "      <th></th>\n",
       "      <th>년도</th>\n",
       "      <th>발생</th>\n",
       "      <th>검거</th>\n",
       "      <th>검거율</th>\n",
       "      <th>살인 발생</th>\n",
       "      <th>살인 검거</th>\n",
       "      <th>강도 발생</th>\n",
       "      <th>강도 검거</th>\n",
       "      <th>강간 발생</th>\n",
       "      <th>강간 검거</th>\n",
       "      <th>절도 발생</th>\n",
       "      <th>절도 검거</th>\n",
       "      <th>폭력 발생</th>\n",
       "      <th>폭력 검거</th>\n",
       "    </tr>\n",
       "  </thead>\n",
       "  <tbody>\n",
       "    <tr>\n",
       "      <th>0</th>\n",
       "      <td>2019</td>\n",
       "      <td>13859</td>\n",
       "      <td>11597</td>\n",
       "      <td>83.7</td>\n",
       "      <td>22</td>\n",
       "      <td>21</td>\n",
       "      <td>25</td>\n",
       "      <td>26</td>\n",
       "      <td>689</td>\n",
       "      <td>650</td>\n",
       "      <td>4675</td>\n",
       "      <td>3155</td>\n",
       "      <td>8448</td>\n",
       "      <td>7745</td>\n",
       "    </tr>\n",
       "    <tr>\n",
       "      <th>1</th>\n",
       "      <td>2018</td>\n",
       "      <td>14094</td>\n",
       "      <td>11980</td>\n",
       "      <td>85.0</td>\n",
       "      <td>25</td>\n",
       "      <td>24</td>\n",
       "      <td>16</td>\n",
       "      <td>16</td>\n",
       "      <td>699</td>\n",
       "      <td>665</td>\n",
       "      <td>4300</td>\n",
       "      <td>3048</td>\n",
       "      <td>9054</td>\n",
       "      <td>8227</td>\n",
       "    </tr>\n",
       "    <tr>\n",
       "      <th>2</th>\n",
       "      <td>2017</td>\n",
       "      <td>16187</td>\n",
       "      <td>13540</td>\n",
       "      <td>83.6</td>\n",
       "      <td>32</td>\n",
       "      <td>32</td>\n",
       "      <td>27</td>\n",
       "      <td>26</td>\n",
       "      <td>627</td>\n",
       "      <td>591</td>\n",
       "      <td>5248</td>\n",
       "      <td>3628</td>\n",
       "      <td>10253</td>\n",
       "      <td>9263</td>\n",
       "    </tr>\n",
       "    <tr>\n",
       "      <th>3</th>\n",
       "      <td>2016</td>\n",
       "      <td>16678</td>\n",
       "      <td>14037</td>\n",
       "      <td>84.2</td>\n",
       "      <td>28</td>\n",
       "      <td>29</td>\n",
       "      <td>28</td>\n",
       "      <td>29</td>\n",
       "      <td>603</td>\n",
       "      <td>570</td>\n",
       "      <td>5166</td>\n",
       "      <td>3568</td>\n",
       "      <td>10853</td>\n",
       "      <td>9841</td>\n",
       "    </tr>\n",
       "    <tr>\n",
       "      <th>4</th>\n",
       "      <td>2015</td>\n",
       "      <td>16441</td>\n",
       "      <td>13020</td>\n",
       "      <td>79.2</td>\n",
       "      <td>33</td>\n",
       "      <td>31</td>\n",
       "      <td>35</td>\n",
       "      <td>35</td>\n",
       "      <td>577</td>\n",
       "      <td>544</td>\n",
       "      <td>5966</td>\n",
       "      <td>3740</td>\n",
       "      <td>9830</td>\n",
       "      <td>8670</td>\n",
       "    </tr>\n",
       "    <tr>\n",
       "      <th>5</th>\n",
       "      <td>2014</td>\n",
       "      <td>16487</td>\n",
       "      <td>12004</td>\n",
       "      <td>72.8</td>\n",
       "      <td>25</td>\n",
       "      <td>24</td>\n",
       "      <td>56</td>\n",
       "      <td>55</td>\n",
       "      <td>582</td>\n",
       "      <td>560</td>\n",
       "      <td>6203</td>\n",
       "      <td>2988</td>\n",
       "      <td>9621</td>\n",
       "      <td>8377</td>\n",
       "    </tr>\n",
       "  </tbody>\n",
       "</table>\n",
       "</div>"
      ],
      "text/plain": [
       "     년도     발생     검거   검거율  살인 발생  살인 검거  강도 발생  강도 검거  강간 발생  강간 검거  절도 발생  \\\n",
       "0  2019  13859  11597  83.7     22     21     25     26    689    650   4675   \n",
       "1  2018  14094  11980  85.0     25     24     16     16    699    665   4300   \n",
       "2  2017  16187  13540  83.6     32     32     27     26    627    591   5248   \n",
       "3  2016  16678  14037  84.2     28     29     28     29    603    570   5166   \n",
       "4  2015  16441  13020  79.2     33     31     35     35    577    544   5966   \n",
       "5  2014  16487  12004  72.8     25     24     56     55    582    560   6203   \n",
       "\n",
       "   절도 검거  폭력 발생  폭력 검거  \n",
       "0   3155   8448   7745  \n",
       "1   3048   9054   8227  \n",
       "2   3628  10253   9263  \n",
       "3   3568  10853   9841  \n",
       "4   3740   9830   8670  \n",
       "5   2988   9621   8377  "
      ]
     },
     "execution_count": 6,
     "metadata": {},
     "output_type": "execute_result"
    }
   ],
   "source": [
    "# excel 파일로 불러오기\n",
    "data = pd.read_excel(f'{path}경찰청 강원도경찰청_5대범죄 발생 및 검거 현황_20191231.xlsx')\n",
    "data"
   ]
  },
  {
   "cell_type": "code",
   "execution_count": 26,
   "metadata": {},
   "outputs": [
    {
     "data": {
      "text/html": [
       "<div>\n",
       "<style scoped>\n",
       "    .dataframe tbody tr th:only-of-type {\n",
       "        vertical-align: middle;\n",
       "    }\n",
       "\n",
       "    .dataframe tbody tr th {\n",
       "        vertical-align: top;\n",
       "    }\n",
       "\n",
       "    .dataframe thead th {\n",
       "        text-align: right;\n",
       "    }\n",
       "</style>\n",
       "<table border=\"1\" class=\"dataframe\">\n",
       "  <thead>\n",
       "    <tr style=\"text-align: right;\">\n",
       "      <th></th>\n",
       "      <th>년도</th>\n",
       "      <th>발생</th>\n",
       "      <th>검거</th>\n",
       "      <th>검거율</th>\n",
       "      <th>살인 발생</th>\n",
       "      <th>살인 검거</th>\n",
       "      <th>강도 발생</th>\n",
       "      <th>강도 검거</th>\n",
       "      <th>강간 발생</th>\n",
       "      <th>강간 검거</th>\n",
       "      <th>절도 발생</th>\n",
       "      <th>절도 검거</th>\n",
       "      <th>폭력 발생</th>\n",
       "      <th>폭력 검거</th>\n",
       "      <th>살인 검거율</th>\n",
       "      <th>강도 검거율</th>\n",
       "      <th>강간 검거율</th>\n",
       "      <th>절도 검거율</th>\n",
       "      <th>폭력 검거율</th>\n",
       "    </tr>\n",
       "  </thead>\n",
       "  <tbody>\n",
       "    <tr>\n",
       "      <th>0</th>\n",
       "      <td>2019</td>\n",
       "      <td>13859</td>\n",
       "      <td>11597</td>\n",
       "      <td>83.7</td>\n",
       "      <td>22</td>\n",
       "      <td>21</td>\n",
       "      <td>25</td>\n",
       "      <td>26</td>\n",
       "      <td>689</td>\n",
       "      <td>650</td>\n",
       "      <td>4675</td>\n",
       "      <td>3155</td>\n",
       "      <td>8448</td>\n",
       "      <td>7745</td>\n",
       "      <td>95.5</td>\n",
       "      <td>104.0</td>\n",
       "      <td>94.3</td>\n",
       "      <td>67.5</td>\n",
       "      <td>91.7</td>\n",
       "    </tr>\n",
       "    <tr>\n",
       "      <th>1</th>\n",
       "      <td>2018</td>\n",
       "      <td>14094</td>\n",
       "      <td>11980</td>\n",
       "      <td>85.0</td>\n",
       "      <td>25</td>\n",
       "      <td>24</td>\n",
       "      <td>16</td>\n",
       "      <td>16</td>\n",
       "      <td>699</td>\n",
       "      <td>665</td>\n",
       "      <td>4300</td>\n",
       "      <td>3048</td>\n",
       "      <td>9054</td>\n",
       "      <td>8227</td>\n",
       "      <td>96.0</td>\n",
       "      <td>100.0</td>\n",
       "      <td>95.1</td>\n",
       "      <td>70.9</td>\n",
       "      <td>90.9</td>\n",
       "    </tr>\n",
       "    <tr>\n",
       "      <th>2</th>\n",
       "      <td>2017</td>\n",
       "      <td>16187</td>\n",
       "      <td>13540</td>\n",
       "      <td>83.6</td>\n",
       "      <td>32</td>\n",
       "      <td>32</td>\n",
       "      <td>27</td>\n",
       "      <td>26</td>\n",
       "      <td>627</td>\n",
       "      <td>591</td>\n",
       "      <td>5248</td>\n",
       "      <td>3628</td>\n",
       "      <td>10253</td>\n",
       "      <td>9263</td>\n",
       "      <td>100.0</td>\n",
       "      <td>96.3</td>\n",
       "      <td>94.3</td>\n",
       "      <td>69.1</td>\n",
       "      <td>90.3</td>\n",
       "    </tr>\n",
       "    <tr>\n",
       "      <th>3</th>\n",
       "      <td>2016</td>\n",
       "      <td>16678</td>\n",
       "      <td>14037</td>\n",
       "      <td>84.2</td>\n",
       "      <td>28</td>\n",
       "      <td>29</td>\n",
       "      <td>28</td>\n",
       "      <td>29</td>\n",
       "      <td>603</td>\n",
       "      <td>570</td>\n",
       "      <td>5166</td>\n",
       "      <td>3568</td>\n",
       "      <td>10853</td>\n",
       "      <td>9841</td>\n",
       "      <td>103.6</td>\n",
       "      <td>103.6</td>\n",
       "      <td>94.5</td>\n",
       "      <td>69.1</td>\n",
       "      <td>90.7</td>\n",
       "    </tr>\n",
       "    <tr>\n",
       "      <th>4</th>\n",
       "      <td>2015</td>\n",
       "      <td>16441</td>\n",
       "      <td>13020</td>\n",
       "      <td>79.2</td>\n",
       "      <td>33</td>\n",
       "      <td>31</td>\n",
       "      <td>35</td>\n",
       "      <td>35</td>\n",
       "      <td>577</td>\n",
       "      <td>544</td>\n",
       "      <td>5966</td>\n",
       "      <td>3740</td>\n",
       "      <td>9830</td>\n",
       "      <td>8670</td>\n",
       "      <td>93.9</td>\n",
       "      <td>100.0</td>\n",
       "      <td>94.3</td>\n",
       "      <td>62.7</td>\n",
       "      <td>88.2</td>\n",
       "    </tr>\n",
       "    <tr>\n",
       "      <th>5</th>\n",
       "      <td>2014</td>\n",
       "      <td>16487</td>\n",
       "      <td>12004</td>\n",
       "      <td>72.8</td>\n",
       "      <td>25</td>\n",
       "      <td>24</td>\n",
       "      <td>56</td>\n",
       "      <td>55</td>\n",
       "      <td>582</td>\n",
       "      <td>560</td>\n",
       "      <td>6203</td>\n",
       "      <td>2988</td>\n",
       "      <td>9621</td>\n",
       "      <td>8377</td>\n",
       "      <td>96.0</td>\n",
       "      <td>98.2</td>\n",
       "      <td>96.2</td>\n",
       "      <td>48.2</td>\n",
       "      <td>87.1</td>\n",
       "    </tr>\n",
       "  </tbody>\n",
       "</table>\n",
       "</div>"
      ],
      "text/plain": [
       "     년도     발생     검거   검거율  살인 발생  살인 검거  강도 발생  강도 검거  강간 발생  강간 검거  절도 발생  \\\n",
       "0  2019  13859  11597  83.7     22     21     25     26    689    650   4675   \n",
       "1  2018  14094  11980  85.0     25     24     16     16    699    665   4300   \n",
       "2  2017  16187  13540  83.6     32     32     27     26    627    591   5248   \n",
       "3  2016  16678  14037  84.2     28     29     28     29    603    570   5166   \n",
       "4  2015  16441  13020  79.2     33     31     35     35    577    544   5966   \n",
       "5  2014  16487  12004  72.8     25     24     56     55    582    560   6203   \n",
       "\n",
       "   절도 검거  폭력 발생  폭력 검거  살인 검거율  강도 검거율  강간 검거율  절도 검거율  폭력 검거율  \n",
       "0   3155   8448   7745    95.5   104.0    94.3    67.5    91.7  \n",
       "1   3048   9054   8227    96.0   100.0    95.1    70.9    90.9  \n",
       "2   3628  10253   9263   100.0    96.3    94.3    69.1    90.3  \n",
       "3   3568  10853   9841   103.6   103.6    94.5    69.1    90.7  \n",
       "4   3740   9830   8670    93.9   100.0    94.3    62.7    88.2  \n",
       "5   2988   9621   8377    96.0    98.2    96.2    48.2    87.1  "
      ]
     },
     "execution_count": 26,
     "metadata": {},
     "output_type": "execute_result"
    }
   ],
   "source": [
    "# 데이터의 컬럼 명칭을 리스트로 전환\n",
    "col_list = data.columns.tolist()[4:]\n",
    "\n",
    "# 리스트로 전환한 컬럼의 홀수번은 발생이며, 짝수번은 검거임.\n",
    "# 따라서, 5대 범죄의 검거율 데이터를 형성하기 위해서는 홀수번째 컬럼 / 짝수번째 컬럼으로 계산하면 됨.\n",
    "crime_5 = ['살인 검거율', '강도 검거율', '강간 검거율', '절도 검거율', '폭력 검거율'] \n",
    "for i in range(5):\n",
    "    data[crime_5[i]] = round(data[col_list[i * 2 + 1]] / data[col_list[i * 2]] * 100, 1)\n",
    "\n",
    "# 데이터가 잘 입력되었는지 확인하는 부분\n",
    "data"
   ]
  },
  {
   "cell_type": "markdown",
   "metadata": {},
   "source": [
    "# 1. 모수에 대한 가설 검정"
   ]
  },
  {
   "cell_type": "markdown",
   "metadata": {},
   "source": [
    "## A. 모평균에 대한 가설검정"
   ]
  },
  {
   "cell_type": "code",
   "execution_count": 7,
   "metadata": {},
   "outputs": [],
   "source": [
    "# 정규분포 그리는 함수 (week_5 distribution 파일에 포함)\n",
    "def normal_df(N, sigma, mu):\n",
    "    import numpy as np\n",
    "    import scipy as sp\n",
    "    import matplotlib.pyplot as plt\n",
    "    import seaborn as sns\n",
    "\n",
    "    np.random.seed(0)\n",
    "    x = sp.stats.norm(mu, sigma).rvs(N)\n",
    "\n",
    "    # 시각화하는 부분은 주석처리하여 따로 출력하지 않고, 대신 데이터의 형성 후 return 해줌.\n",
    "    # ax = sns.distplot(x, kde=False, fit=sp.stats.norm, label=f\"normal df (Variance :{np.round(x.std(),3)})\")\n",
    "    # plt.legend(bbox_to_anchor=(1.0, .2))\n",
    "    # plt.show()\n",
    "\n",
    "    return x"
   ]
  },
  {
   "cell_type": "code",
   "execution_count": 20,
   "metadata": {},
   "outputs": [],
   "source": [
    "def t_test(x1, x2, sig_level = 0.05):\n",
    "    from scipy.stats import ttest_ind\n",
    "\n",
    "    print(f't-test 검정통계치 : {ttest_ind(x1, x2)[0]}')\n",
    "    print(f't-test p-value : {round(ttest_ind(x1, x2)[1], 3)}')\n",
    "    \n",
    "    # t-test로 도출한 p값을 기존에 설정한 유의수준과 비교하여 귀무가설을 기각할 수 있는지 여부를 표시해줌.\n",
    "    if ttest_ind(x1,x2)[1] < sig_level:\n",
    "        print(f't-test 결과, {sig_level*100}%의 유의수준으로 두 데이터의 모평균이 같다는 귀무가설을 기각할 수 있습니다.')\n",
    "    else:\n",
    "        print(f't-test 결과, {sig_level*100}%의 유의수준으로 두 데이터의 모평균이 같다는 귀무가설을 기각할 수 없습니다.')"
   ]
  },
  {
   "cell_type": "code",
   "execution_count": 10,
   "metadata": {},
   "outputs": [
    {
     "name": "stderr",
     "output_type": "stream",
     "text": [
      "/Library/Frameworks/Python.framework/Versions/3.9/lib/python3.9/site-packages/seaborn/distributions.py:2619: FutureWarning: `distplot` is a deprecated function and will be removed in a future version. Please adapt your code to use either `displot` (a figure-level function with similar flexibility) or `histplot` (an axes-level function for histograms).\n",
      "  warnings.warn(msg, FutureWarning)\n",
      "/Library/Frameworks/Python.framework/Versions/3.9/lib/python3.9/site-packages/seaborn/distributions.py:2619: FutureWarning: `distplot` is a deprecated function and will be removed in a future version. Please adapt your code to use either `displot` (a figure-level function with similar flexibility) or `histplot` (an axes-level function for histograms).\n",
      "  warnings.warn(msg, FutureWarning)\n"
     ]
    },
    {
     "data": {
      "image/png": "[encoded data removed]",
      "text/plain": [
       "<Figure size 432x288 with 1 Axes>"
      ]
     },
     "metadata": {
      "needs_background": "light"
     },
     "output_type": "display_data"
    },
    {
     "name": "stdout",
     "output_type": "stream",
     "text": [
      "t-test 검정통계치 : -203.78795583613376\n",
      "t-test p-value : 0.0\n",
      "t-test 결과, 5.0%의 유의수준으로 두 데이터의 모평균이 같다는 귀무가설을 기각할 수 있습니다.\n"
     ]
    }
   ],
   "source": [
    "# 정규분포의 특성을 가지는 임의의 데이터 2개 형성\n",
    "x1 = normal_df(1000, 1, 1)  # 평균 1, 표준편차 1\n",
    "x2 = normal_df(1000, 1, 10) # 평균 10, 표준편차 1\n",
    "\n",
    "# 시각화\n",
    "sns.distplot(x1, kde=False, fit=sp.stats.norm, label=f\"normal df (Variance :{np.round(x1.std(),3)})\")\n",
    "sns.distplot(x2, kde=False, fit=sp.stats.norm, label=f\"normal df (Variance :{np.round(x2.std(),3)})\")\n",
    "plt.legend(bbox_to_anchor=(1.0, .2))\n",
    "plt.show()\n",
    "\n",
    "# t-test 진행\n",
    "t_test(x1, x2, 0.05)"
   ]
  },
  {
   "cell_type": "code",
   "execution_count": 11,
   "metadata": {},
   "outputs": [
    {
     "name": "stderr",
     "output_type": "stream",
     "text": [
      "/Library/Frameworks/Python.framework/Versions/3.9/lib/python3.9/site-packages/seaborn/distributions.py:2619: FutureWarning: `distplot` is a deprecated function and will be removed in a future version. Please adapt your code to use either `displot` (a figure-level function with similar flexibility) or `histplot` (an axes-level function for histograms).\n",
      "  warnings.warn(msg, FutureWarning)\n",
      "/Library/Frameworks/Python.framework/Versions/3.9/lib/python3.9/site-packages/seaborn/distributions.py:2619: FutureWarning: `distplot` is a deprecated function and will be removed in a future version. Please adapt your code to use either `displot` (a figure-level function with similar flexibility) or `histplot` (an axes-level function for histograms).\n",
      "  warnings.warn(msg, FutureWarning)\n"
     ]
    },
    {
     "data": {
      "image/png": "[encoded data removed]",
      "text/plain": [
       "<Figure size 432x288 with 1 Axes>"
      ]
     },
     "metadata": {
      "needs_background": "light"
     },
     "output_type": "display_data"
    },
    {
     "name": "stdout",
     "output_type": "stream",
     "text": [
      "t-test 검정통계치 : -1.3973555186452973\n",
      "t-test p-value : 0.162\n",
      "t-test 결과, 5.0%의 유의수준으로 두 데이터의 모평균이 같다는 귀무가설을 기각할 수 없습니다.\n"
     ]
    }
   ],
   "source": [
    "# 표준정규분포 형성 (평균이 동일하지만, 표준편차와 데이터 개수가 다른 데이터 형성)\n",
    "x1 = normal_df(1000, 3, 0) # (평균 = 0, 표준편차 = 3)\n",
    "x2 = normal_df(1500, 1, 0) # (평균 = 0, 표준편차 = 1)\n",
    "\n",
    "# 시각화\n",
    "sns.distplot(x1, kde=False, fit=sp.stats.norm, label=f\"normal df (Variance :{np.round(x1.std(),3)})\")\n",
    "sns.distplot(x2, kde=False, fit=sp.stats.norm, label=f\"normal df (Variance :{np.round(x2.std(),3)})\")\n",
    "plt.legend(bbox_to_anchor=(1.0, .2))\n",
    "plt.show()\n",
    "\n",
    "t_test(x1, x2, 0.05)"
   ]
  },
  {
   "cell_type": "markdown",
   "metadata": {},
   "source": [
    "## B. 모비율에 대한 가설검정"
   ]
  },
  {
   "cell_type": "code",
   "execution_count": 28,
   "metadata": {},
   "outputs": [
    {
     "name": "stdout",
     "output_type": "stream",
     "text": [
      "[13859, 11597] [14094, 11980]\n"
     ]
    }
   ],
   "source": [
    "# 강원도 경찰청 5대 범죄 데이터로 진행해봅니다.\n",
    "\n",
    "# 모비율 데이터를 형성하기 위해 새로운 리스트 형성\n",
    "arrest_1 = []\n",
    "arrest_2 = []\n",
    "\n",
    "# for 문을 활용하여 범죄 발생, 검거 데이터를 리스트에 append하는 작업\n",
    "for i, j in zip(range(2), [arrest_1,arrest_2]):\n",
    "    j.append(data['발생'].tolist()[i])\n",
    "    j.append(data['검거'].tolist()[i])\n",
    "\n",
    "# 잘 입력되었는지 확인해보는 부분\n",
    "print(arrest_1, arrest_2)"
   ]
  },
  {
   "cell_type": "code",
   "execution_count": 29,
   "metadata": {},
   "outputs": [
    {
     "name": "stdout",
     "output_type": "stream",
     "text": [
      "arrest_1 : 발생 = 13859, 검거 = 11597, 검거율 = 83.7%\n",
      "arrest_2 : 발생 = 14094, 검거 = 11980, 검거율 = 85.0%\n"
     ]
    },
    {
     "data": {
      "image/png": "[encoded data removed]",
      "text/plain": [
       "<Figure size 720x216 with 1 Axes>"
      ]
     },
     "metadata": {
      "needs_background": "light"
     },
     "output_type": "display_data"
    }
   ],
   "source": [
    "import matplotlib.pyplot as plt\n",
    "from scipy.stats import norm\n",
    " \n",
    "print(f'arrest_1 : 발생 = {arrest_1[0]}, 검거 = {arrest_1[1]}, 검거율 = {round(arrest_1[1]/arrest_1[0], 3) * 100}%')\n",
    "print(f'arrest_2 : 발생 = {arrest_2[0]}, 검거 = {arrest_2[1]}, 검거율 = {round(arrest_2[1]/arrest_2[0], 3) * 100}%')\n",
    " \n",
    "# plot으로 그리기 위해 x축 데이터 형성\n",
    "x = np.linspace(0.5, 1, 100)\n",
    " \n",
    "# arrest_1 데이터에 대한 정보\n",
    "n = arrest_1[0]\n",
    "p = arrest_1[1]/arrest_1[0]\n",
    "std = np.sqrt(p*(1-p)/n)    \n",
    "y_a = norm.pdf(x, p, std) # 확률 누적 분포로 데이터 형성\n",
    " \n",
    "# arrest_2 데이터에 대한 정보\n",
    "n = arrest_2[0]\n",
    "p = arrest_2[1]/arrest_2[0]\n",
    "std = np.sqrt(p*(1-p)/n)\n",
    "y_b = norm.pdf(x, p, std) # 확률 누적 분포로 데이터 형성\n",
    "\n",
    "plt.figure(figsize=(10, 3))\n",
    "plt.plot(x, y_a, label='arrest_1')\n",
    "plt.plot(x, y_b, label='arrest_2')\n",
    "plt.legend(loc='best')\n",
    "plt.show()\n"
   ]
  },
  {
   "cell_type": "code",
   "execution_count": 30,
   "metadata": {},
   "outputs": [
    {
     "name": "stdout",
     "output_type": "stream",
     "text": [
      "카이제곱 검정통계치 : 0.7701678869366818\n",
      "카이제곱 P-value : 0.38\n",
      "자유도 : 1\n",
      "카이제곱 검정 결과, 두 데이터 집단의 모비율이 같다는 귀무가설을 유의수준 5.0%로 기각할 수 없습니다.\n"
     ]
    }
   ],
   "source": [
    "def chi2(x1, x2, sig_level=0.05):\n",
    "    from scipy.stats import chi2_contingency\n",
    "\n",
    "    print(f'카이제곱 검정통계치 : {chi2_contingency([x1, x2])[0]}')\n",
    "    print(f'카이제곱 P-value : {round(chi2_contingency([x1, x2])[1], 3)}')\n",
    "    print(f'자유도 : {chi2_contingency([x1, x2])[2]}')\n",
    "    \n",
    "    # 귀무가설을 기각할 지 여부를 p 값으로 판단하고 출력해주는 부분\n",
    "    if chi2_contingency([x1, x2])[1] < sig_level:\n",
    "        print(f'카이제곱 검정 결과, 두 데이터 집단의 모비율이 같다는 귀무가설을 유의수준 {sig_level * 100}%로 기각할 수 있습니다.')\n",
    "    else:\n",
    "        print(f'카이제곱 검정 결과, 두 데이터 집단의 모비율이 같다는 귀무가설을 유의수준 {sig_level * 100}%로 기각할 수 없습니다.')\n",
    "        \n",
    "# arrest_1, 2 데이터에 대한 카이제곱 검정 시행\n",
    "chi2(arrest_1,arrest_2, 0.05)"
   ]
  },
  {
   "cell_type": "markdown",
   "metadata": {},
   "source": [
    "## C. 모분산에 대한 가설검정"
   ]
  },
  {
   "cell_type": "code",
   "execution_count": 32,
   "metadata": {},
   "outputs": [
    {
     "data": {
      "image/png": "[encoded data removed]",
      "text/plain": [
       "<Figure size 432x288 with 2 Axes>"
      ]
     },
     "metadata": {
      "needs_background": "light"
     },
     "output_type": "display_data"
    }
   ],
   "source": [
    "# 강원도 경찰청 5대 범죄 데이터로 진행해봅니다.\n",
    "\n",
    "# 검거와 발생 데이터를 리스트 형태로 새롭게 지정함.\n",
    "arrest = data['검거'].tolist()\n",
    "occur = data['발생'].tolist()\n",
    "\n",
    "# 데이터 보기\n",
    "plt.subplot(2,1,1)\n",
    "plt.bar(x = data['년도'], height = data['검거'])\n",
    "plt.ylabel('arrest')\n",
    "plt.subplot(2,1,2)\n",
    "plt.bar(x = data['년도'], height = data['발생'])\n",
    "plt.ylabel('occur')\n",
    "plt.show()"
   ]
  },
  {
   "cell_type": "code",
   "execution_count": 33,
   "metadata": {},
   "outputs": [
    {
     "name": "stdout",
     "output_type": "stream",
     "text": [
      "F-test 검정통계치 : 19.617\n",
      "F-test P-value : 0.001\n",
      "F 검정 결과, 두 데이터 집단의 모분산이 같다는 귀무가설을 유의수준 5.0%로 기각할 수 있습니다.\n"
     ]
    }
   ],
   "source": [
    "def f_test(x1,x2,sig_level=0.05):\n",
    "    # 라이브러리 호출\n",
    "    from scipy.stats import f_oneway\n",
    "\n",
    "    # 검정통계치. p값을 출력하는 부분 (소수점 3째 자리까지)\n",
    "    print(f'F-test 검정통계치 : {round(f_oneway(x1, x2)[0], 3)}')\n",
    "    print(f'F-test P-value : {round(f_oneway(x1, x2)[1], 3)}')\n",
    "\n",
    "    # 귀무가설을 기각할 지 여부를 p 값으로 판단하고 출력해주는 부분    \n",
    "    if f_oneway(x1, x2)[1] < sig_level:\n",
    "        print(f'F 검정 결과, 두 데이터 집단의 모분산이 같다는 귀무가설을 유의수준 {sig_level * 100}%로 기각할 수 있습니다.')\n",
    "    else:\n",
    "        print(f'F 검정 결과, 두 데이터 집단의 모분산이 같다는 귀무가설을 유의수준 {sig_level * 100}%로 기각할 수 없습니다.')\n",
    "        \n",
    "f_test(arrest, occur, sig_level=0.05)"
   ]
  },
  {
   "cell_type": "markdown",
   "metadata": {},
   "source": [
    "# 2. 표본에 대한 가설 검정"
   ]
  },
  {
   "cell_type": "markdown",
   "metadata": {},
   "source": [
    "## A. 단일표본 t 검정 (1-sample T-test)"
   ]
  },
  {
   "cell_type": "code",
   "execution_count": 38,
   "metadata": {},
   "outputs": [
    {
     "name": "stdout",
     "output_type": "stream",
     "text": [
      "T 검정 검정통계량 : -30.2692\n",
      "T 검정 p-value :  0.0000\n",
      "평균이 10이 아니라는 귀무가설을 5%의 유의수준으로 기각할 수 있습니다.\n"
     ]
    }
   ],
   "source": [
    "import numpy as np\n",
    "from scipy.stats import ttest_1samp\n",
    "\n",
    "# 정규분포 형성 함수를 이용하여 정규분포 데이터 형성 \n",
    "x = normal_df(1000, 10, 1)  # 평균 10, 표준편차 1\n",
    "test = 10\n",
    "# 1-sample t-test 시행 (평균이 10이 맞는지)\n",
    "result= ttest_1samp(x,test)\n",
    "\n",
    "print(f'T 검정 검정통계량 : {result[0] : .4f}')\n",
    "print(f'T 검정 p-value : {result[1] : .4f}')\n",
    "\n",
    "if result[1] < 0.05:\n",
    "    print(f'평균이 {test}이 아니라는 귀무가설을 5%의 유의수준으로 기각할 수 있습니다.')\n",
    "else:\n",
    "    print(f'평균이 {test}이 아니라는 귀무가설을 5%의 유의수준으로 기각할 수 없습니다.')"
   ]
  },
  {
   "cell_type": "markdown",
   "metadata": {},
   "source": [
    "## B. 독립 표본 t 검정 (Unpaired T-test)"
   ]
  },
  {
   "cell_type": "markdown",
   "metadata": {},
   "source": [
    "### B-1 등분산일 경우 (T-test)"
   ]
  },
  {
   "cell_type": "code",
   "execution_count": 23,
   "metadata": {},
   "outputs": [],
   "source": [
    "# 위의 모평균 차이 검정에서 진행한 것과 동일하므로 주석처리하였음\n",
    "\n",
    "# # 정규분포의 특성을 가지는 임의의 데이터 2개 형성\n",
    "# x1 = normal_df(1000, 1, 1)  # 평균 1, 표준편차 1\n",
    "# x2 = normal_df(1000, 1, 10) # 평균 10, 표준편차 1\n",
    "\n",
    "# # 시각화\n",
    "# sns.distplot(x1, kde=False, fit=sp.stats.norm, label=f\"normal df (Variance :{np.round(x1.std(),3)})\")\n",
    "# sns.distplot(x2, kde=False, fit=sp.stats.norm, label=f\"normal df (Variance :{np.round(x2.std(),3)})\")\n",
    "# plt.legend(bbox_to_anchor=(1.0, .2))\n",
    "# plt.show()\n",
    "\n",
    "# # t-test 진행\n",
    "# t_test(x1, x2, 0.05)"
   ]
  },
  {
   "cell_type": "markdown",
   "metadata": {},
   "source": [
    "### B-2 이분산일 경우 (Welch's T-test)"
   ]
  },
  {
   "cell_type": "code",
   "execution_count": 49,
   "metadata": {},
   "outputs": [
    {
     "name": "stdout",
     "output_type": "stream",
     "text": [
      "F-test 검정통계치 : 19.617\n",
      "F-test P-value : 0.001\n",
      "F 검정 결과, 두 데이터 집단의 모분산이 같다는 귀무가설을 유의수준 5.0%로 기각할 수 있습니다.\n",
      "arrset의 평균 : 12696.333333333334\n",
      "occur의 평균 : 15624.333333333334\n"
     ]
    }
   ],
   "source": [
    "# 위에서 등분산 검정에서 귀무가설 기각으로 이분산이 성립한 2개의 샘플에 대해서 이분산 t-test 진행\n",
    "f_test(arrest, occur, sig_level=0.05)"
   ]
  },
  {
   "cell_type": "code",
   "execution_count": 50,
   "metadata": {},
   "outputs": [
    {
     "name": "stdout",
     "output_type": "stream",
     "text": [
      "T 검정 검정통계량 : -4.4291\n",
      "T 검정 p-value :  0.0015\n",
      "평균이 같지않다는 귀무가설을 5%의 유의수준으로 기각할 수 있습니다.\n"
     ]
    }
   ],
   "source": [
    "from scipy.stats import ttest_ind\n",
    "\n",
    "result = ttest_ind(arrest, occur, equal_var=False)\n",
    "\n",
    "\n",
    "print(f'T 검정 검정통계량 : {result[0] : .4f}')\n",
    "print(f'T 검정 p-value : {result[1] : .4f}')\n",
    "\n",
    "if result[1] < 0.05:\n",
    "    print(f'평균이 같지않다는 귀무가설을 5%의 유의수준으로 기각할 수 있습니다.')\n",
    "else:\n",
    "    print(f'평균이 같지않다는 귀무가설을 5%의 유의수준으로 기각할 수 없습니다.')\n",
    "    \n",
    "# 물론 실제로도 두 데이터의 평균은 다릅니다.\n",
    "# print(f'arrset의 평균 : {np.mean(arrest)}')\n",
    "# print(f'occur의 평균 : {np.mean(occur)}')"
   ]
  },
  {
   "cell_type": "markdown",
   "metadata": {},
   "source": [
    "## C. 대응표본 t 검정 (Paired T-test)"
   ]
  },
  {
   "cell_type": "code",
   "execution_count": 20,
   "metadata": {},
   "outputs": [
    {
     "data": {
      "text/html": [
       "<div>\n",
       "<style scoped>\n",
       "    .dataframe tbody tr th:only-of-type {\n",
       "        vertical-align: middle;\n",
       "    }\n",
       "\n",
       "    .dataframe tbody tr th {\n",
       "        vertical-align: top;\n",
       "    }\n",
       "\n",
       "    .dataframe thead th {\n",
       "        text-align: right;\n",
       "    }\n",
       "</style>\n",
       "<table border=\"1\" class=\"dataframe\">\n",
       "  <thead>\n",
       "    <tr style=\"text-align: right;\">\n",
       "      <th></th>\n",
       "      <th>before</th>\n",
       "      <th>after</th>\n",
       "    </tr>\n",
       "  </thead>\n",
       "  <tbody>\n",
       "    <tr>\n",
       "      <th>0</th>\n",
       "      <td>168</td>\n",
       "      <td>104</td>\n",
       "    </tr>\n",
       "    <tr>\n",
       "      <th>1</th>\n",
       "      <td>152</td>\n",
       "      <td>145</td>\n",
       "    </tr>\n",
       "    <tr>\n",
       "      <th>2</th>\n",
       "      <td>154</td>\n",
       "      <td>135</td>\n",
       "    </tr>\n",
       "    <tr>\n",
       "      <th>3</th>\n",
       "      <td>160</td>\n",
       "      <td>116</td>\n",
       "    </tr>\n",
       "    <tr>\n",
       "      <th>4</th>\n",
       "      <td>149</td>\n",
       "      <td>112</td>\n",
       "    </tr>\n",
       "    <tr>\n",
       "      <th>5</th>\n",
       "      <td>166</td>\n",
       "      <td>112</td>\n",
       "    </tr>\n",
       "    <tr>\n",
       "      <th>6</th>\n",
       "      <td>147</td>\n",
       "      <td>140</td>\n",
       "    </tr>\n",
       "    <tr>\n",
       "      <th>7</th>\n",
       "      <td>176</td>\n",
       "      <td>114</td>\n",
       "    </tr>\n",
       "    <tr>\n",
       "      <th>8</th>\n",
       "      <td>155</td>\n",
       "      <td>145</td>\n",
       "    </tr>\n",
       "    <tr>\n",
       "      <th>9</th>\n",
       "      <td>177</td>\n",
       "      <td>133</td>\n",
       "    </tr>\n",
       "    <tr>\n",
       "      <th>10</th>\n",
       "      <td>156</td>\n",
       "      <td>146</td>\n",
       "    </tr>\n",
       "    <tr>\n",
       "      <th>11</th>\n",
       "      <td>150</td>\n",
       "      <td>103</td>\n",
       "    </tr>\n",
       "    <tr>\n",
       "      <th>12</th>\n",
       "      <td>160</td>\n",
       "      <td>120</td>\n",
       "    </tr>\n",
       "    <tr>\n",
       "      <th>13</th>\n",
       "      <td>160</td>\n",
       "      <td>102</td>\n",
       "    </tr>\n",
       "    <tr>\n",
       "      <th>14</th>\n",
       "      <td>143</td>\n",
       "      <td>132</td>\n",
       "    </tr>\n",
       "    <tr>\n",
       "      <th>15</th>\n",
       "      <td>171</td>\n",
       "      <td>122</td>\n",
       "    </tr>\n",
       "    <tr>\n",
       "      <th>16</th>\n",
       "      <td>149</td>\n",
       "      <td>114</td>\n",
       "    </tr>\n",
       "    <tr>\n",
       "      <th>17</th>\n",
       "      <td>163</td>\n",
       "      <td>149</td>\n",
       "    </tr>\n",
       "    <tr>\n",
       "      <th>18</th>\n",
       "      <td>165</td>\n",
       "      <td>125</td>\n",
       "    </tr>\n",
       "    <tr>\n",
       "      <th>19</th>\n",
       "      <td>161</td>\n",
       "      <td>140</td>\n",
       "    </tr>\n",
       "  </tbody>\n",
       "</table>\n",
       "</div>"
      ],
      "text/plain": [
       "    before  after\n",
       "0      168    104\n",
       "1      152    145\n",
       "2      154    135\n",
       "3      160    116\n",
       "4      149    112\n",
       "5      166    112\n",
       "6      147    140\n",
       "7      176    114\n",
       "8      155    145\n",
       "9      177    133\n",
       "10     156    146\n",
       "11     150    103\n",
       "12     160    120\n",
       "13     160    102\n",
       "14     143    132\n",
       "15     171    122\n",
       "16     149    114\n",
       "17     163    149\n",
       "18     165    125\n",
       "19     161    140"
      ]
     },
     "execution_count": 20,
     "metadata": {},
     "output_type": "execute_result"
    }
   ],
   "source": [
    "# 대응표본 예시 데이터 (고혈압약을 투약한 경우, 어떤 유의한 변화가 나타나는지 대응표본 검정을 시행한다)\n",
    "# csv file\n",
    "data = pd.read_csv(path+'대응표본T검정예제.csv')\n",
    "# excel file\n",
    "data = pd.read_excel(path+'대응표본T검정예제.xlsx')\n",
    "\n",
    "data"
   ]
  },
  {
   "cell_type": "code",
   "execution_count": 21,
   "metadata": {},
   "outputs": [
    {
     "name": "stdout",
     "output_type": "stream",
     "text": [
      "대응 2표본 검정통계치 : 7.695\n",
      "대응 2표본 P-value : 0.0\n",
      "대응 2표본 검정 결과, \"변화가 나타나지 않았다.\"라는 귀무가설을 유의수준 5.0%로 기각할 수 있습니다.\n"
     ]
    }
   ],
   "source": [
    "def two_paired_test(x1, x2, sig_level=0.05):\n",
    "    # 라이브러리 호출\n",
    "    from scipy.stats import ttest_rel\n",
    "\n",
    "    print(f'대응 2표본 검정통계치 : {round(ttest_rel(x1, x2)[0], 3)}')\n",
    "    print(f'대응 2표본 P-value : {round(ttest_rel(x1, x2)[1], 3)}')\n",
    "    \n",
    "    # 귀무가설을 기각할 지 여부를 p 값으로 판단하고 출력해주는 부분    \n",
    "    if ttest_rel(x1, x2)[1] < sig_level:\n",
    "        print(f'대응 2표본 검정 결과, \"변화가 나타나지 않았다.\"라는 귀무가설을 유의수준 {sig_level * 100}%로 기각할 수 있습니다.')\n",
    "    else:\n",
    "        print(f'대응 2표본 검정 결과, \"변화가 나타나지 않았다.\"라는 귀무가설을 유의수준 {sig_level * 100}%로 기각할 수 없습니다.')\n",
    "        \n",
    "two_paired_test(data['before'], data['after'], 0.05)"
   ]
  }
 ],
 "metadata": {
  "interpreter": {
   "hash": "aee8b7b246df8f9039afb4144a1f6fd8d2ca17a180786b69acc140d282b71a49"
  },
  "kernelspec": {
   "display_name": "Python 3.9.4 64-bit",
   "language": "python",
   "name": "python3"
  },
  "language_info": {
   "codemirror_mode": {
    "name": "ipython",
    "version": 3
   },
   "file_extension": ".py",
   "mimetype": "text/x-python",
   "name": "python",
   "nbconvert_exporter": "python",
   "pygments_lexer": "ipython3",
   "version": "3.9.4"
  },
  "orig_nbformat": 4
 },
 "nbformat": 4,
 "nbformat_minor": 2
}
