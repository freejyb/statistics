{
 "cells": [
  {
   "cell_type": "code",
   "execution_count": 1,
   "metadata": {},
   "outputs": [],
   "source": [
    "# 필요한 라이브러리 호출\n",
    "import pandas as pd\n",
    "import matplotlib.pyplot as plt\n",
    "import numpy as np\n",
    "\n",
    "path = '../dataset/'\n"
   ]
  },
  {
   "cell_type": "code",
   "execution_count": 2,
   "metadata": {},
   "outputs": [
    {
     "data": {
      "text/html": [
       "<div>\n",
       "<style scoped>\n",
       "    .dataframe tbody tr th:only-of-type {\n",
       "        vertical-align: middle;\n",
       "    }\n",
       "\n",
       "    .dataframe tbody tr th {\n",
       "        vertical-align: top;\n",
       "    }\n",
       "\n",
       "    .dataframe thead th {\n",
       "        text-align: right;\n",
       "    }\n",
       "</style>\n",
       "<table border=\"1\" class=\"dataframe\">\n",
       "  <thead>\n",
       "    <tr style=\"text-align: right;\">\n",
       "      <th></th>\n",
       "      <th>년도</th>\n",
       "      <th>발생</th>\n",
       "      <th>검거</th>\n",
       "      <th>검거율</th>\n",
       "      <th>살인 발생</th>\n",
       "      <th>살인 검거</th>\n",
       "      <th>강도 발생</th>\n",
       "      <th>강도 검거</th>\n",
       "      <th>강간 발생</th>\n",
       "      <th>강간 검거</th>\n",
       "      <th>절도 발생</th>\n",
       "      <th>절도 검거</th>\n",
       "      <th>폭력 발생</th>\n",
       "      <th>폭력 검거</th>\n",
       "    </tr>\n",
       "  </thead>\n",
       "  <tbody>\n",
       "    <tr>\n",
       "      <th>0</th>\n",
       "      <td>2019</td>\n",
       "      <td>13859</td>\n",
       "      <td>11597</td>\n",
       "      <td>83.7</td>\n",
       "      <td>22</td>\n",
       "      <td>21</td>\n",
       "      <td>25</td>\n",
       "      <td>26</td>\n",
       "      <td>689</td>\n",
       "      <td>650</td>\n",
       "      <td>4675</td>\n",
       "      <td>3155</td>\n",
       "      <td>8448</td>\n",
       "      <td>7745</td>\n",
       "    </tr>\n",
       "    <tr>\n",
       "      <th>1</th>\n",
       "      <td>2018</td>\n",
       "      <td>14094</td>\n",
       "      <td>11980</td>\n",
       "      <td>85.0</td>\n",
       "      <td>25</td>\n",
       "      <td>24</td>\n",
       "      <td>16</td>\n",
       "      <td>16</td>\n",
       "      <td>699</td>\n",
       "      <td>665</td>\n",
       "      <td>4300</td>\n",
       "      <td>3048</td>\n",
       "      <td>9054</td>\n",
       "      <td>8227</td>\n",
       "    </tr>\n",
       "    <tr>\n",
       "      <th>2</th>\n",
       "      <td>2017</td>\n",
       "      <td>16187</td>\n",
       "      <td>13540</td>\n",
       "      <td>83.6</td>\n",
       "      <td>32</td>\n",
       "      <td>32</td>\n",
       "      <td>27</td>\n",
       "      <td>26</td>\n",
       "      <td>627</td>\n",
       "      <td>591</td>\n",
       "      <td>5248</td>\n",
       "      <td>3628</td>\n",
       "      <td>10253</td>\n",
       "      <td>9263</td>\n",
       "    </tr>\n",
       "    <tr>\n",
       "      <th>3</th>\n",
       "      <td>2016</td>\n",
       "      <td>16678</td>\n",
       "      <td>14037</td>\n",
       "      <td>84.2</td>\n",
       "      <td>28</td>\n",
       "      <td>29</td>\n",
       "      <td>28</td>\n",
       "      <td>29</td>\n",
       "      <td>603</td>\n",
       "      <td>570</td>\n",
       "      <td>5166</td>\n",
       "      <td>3568</td>\n",
       "      <td>10853</td>\n",
       "      <td>9841</td>\n",
       "    </tr>\n",
       "    <tr>\n",
       "      <th>4</th>\n",
       "      <td>2015</td>\n",
       "      <td>16441</td>\n",
       "      <td>13020</td>\n",
       "      <td>79.2</td>\n",
       "      <td>33</td>\n",
       "      <td>31</td>\n",
       "      <td>35</td>\n",
       "      <td>35</td>\n",
       "      <td>577</td>\n",
       "      <td>544</td>\n",
       "      <td>5966</td>\n",
       "      <td>3740</td>\n",
       "      <td>9830</td>\n",
       "      <td>8670</td>\n",
       "    </tr>\n",
       "    <tr>\n",
       "      <th>5</th>\n",
       "      <td>2014</td>\n",
       "      <td>16487</td>\n",
       "      <td>12004</td>\n",
       "      <td>72.8</td>\n",
       "      <td>25</td>\n",
       "      <td>24</td>\n",
       "      <td>56</td>\n",
       "      <td>55</td>\n",
       "      <td>582</td>\n",
       "      <td>560</td>\n",
       "      <td>6203</td>\n",
       "      <td>2988</td>\n",
       "      <td>9621</td>\n",
       "      <td>8377</td>\n",
       "    </tr>\n",
       "  </tbody>\n",
       "</table>\n",
       "</div>"
      ],
      "text/plain": [
       "     년도     발생     검거   검거율  살인 발생  살인 검거  강도 발생  강도 검거  강간 발생  강간 검거  절도 발생  \\\n",
       "0  2019  13859  11597  83.7     22     21     25     26    689    650   4675   \n",
       "1  2018  14094  11980  85.0     25     24     16     16    699    665   4300   \n",
       "2  2017  16187  13540  83.6     32     32     27     26    627    591   5248   \n",
       "3  2016  16678  14037  84.2     28     29     28     29    603    570   5166   \n",
       "4  2015  16441  13020  79.2     33     31     35     35    577    544   5966   \n",
       "5  2014  16487  12004  72.8     25     24     56     55    582    560   6203   \n",
       "\n",
       "   절도 검거  폭력 발생  폭력 검거  \n",
       "0   3155   8448   7745  \n",
       "1   3048   9054   8227  \n",
       "2   3628  10253   9263  \n",
       "3   3568  10853   9841  \n",
       "4   3740   9830   8670  \n",
       "5   2988   9621   8377  "
      ]
     },
     "execution_count": 2,
     "metadata": {},
     "output_type": "execute_result"
    }
   ],
   "source": [
    "# CSV 파일로 불러오기\n",
    "data = pd.read_csv(f'{path}경찰청 강원도경찰청_5대범죄 발생 및 검거 현황_20191231.csv')\n",
    "data"
   ]
  },
  {
   "cell_type": "code",
   "execution_count": 3,
   "metadata": {},
   "outputs": [
    {
     "data": {
      "text/html": [
       "<div>\n",
       "<style scoped>\n",
       "    .dataframe tbody tr th:only-of-type {\n",
       "        vertical-align: middle;\n",
       "    }\n",
       "\n",
       "    .dataframe tbody tr th {\n",
       "        vertical-align: top;\n",
       "    }\n",
       "\n",
       "    .dataframe thead th {\n",
       "        text-align: right;\n",
       "    }\n",
       "</style>\n",
       "<table border=\"1\" class=\"dataframe\">\n",
       "  <thead>\n",
       "    <tr style=\"text-align: right;\">\n",
       "      <th></th>\n",
       "      <th>년도</th>\n",
       "      <th>발생</th>\n",
       "      <th>검거</th>\n",
       "      <th>검거율</th>\n",
       "      <th>살인 발생</th>\n",
       "      <th>살인 검거</th>\n",
       "      <th>강도 발생</th>\n",
       "      <th>강도 검거</th>\n",
       "      <th>강간 발생</th>\n",
       "      <th>강간 검거</th>\n",
       "      <th>절도 발생</th>\n",
       "      <th>절도 검거</th>\n",
       "      <th>폭력 발생</th>\n",
       "      <th>폭력 검거</th>\n",
       "    </tr>\n",
       "  </thead>\n",
       "  <tbody>\n",
       "    <tr>\n",
       "      <th>0</th>\n",
       "      <td>2019</td>\n",
       "      <td>13859</td>\n",
       "      <td>11597</td>\n",
       "      <td>83.7</td>\n",
       "      <td>22</td>\n",
       "      <td>21</td>\n",
       "      <td>25</td>\n",
       "      <td>26</td>\n",
       "      <td>689</td>\n",
       "      <td>650</td>\n",
       "      <td>4675</td>\n",
       "      <td>3155</td>\n",
       "      <td>8448</td>\n",
       "      <td>7745</td>\n",
       "    </tr>\n",
       "    <tr>\n",
       "      <th>1</th>\n",
       "      <td>2018</td>\n",
       "      <td>14094</td>\n",
       "      <td>11980</td>\n",
       "      <td>85.0</td>\n",
       "      <td>25</td>\n",
       "      <td>24</td>\n",
       "      <td>16</td>\n",
       "      <td>16</td>\n",
       "      <td>699</td>\n",
       "      <td>665</td>\n",
       "      <td>4300</td>\n",
       "      <td>3048</td>\n",
       "      <td>9054</td>\n",
       "      <td>8227</td>\n",
       "    </tr>\n",
       "    <tr>\n",
       "      <th>2</th>\n",
       "      <td>2017</td>\n",
       "      <td>16187</td>\n",
       "      <td>13540</td>\n",
       "      <td>83.6</td>\n",
       "      <td>32</td>\n",
       "      <td>32</td>\n",
       "      <td>27</td>\n",
       "      <td>26</td>\n",
       "      <td>627</td>\n",
       "      <td>591</td>\n",
       "      <td>5248</td>\n",
       "      <td>3628</td>\n",
       "      <td>10253</td>\n",
       "      <td>9263</td>\n",
       "    </tr>\n",
       "    <tr>\n",
       "      <th>3</th>\n",
       "      <td>2016</td>\n",
       "      <td>16678</td>\n",
       "      <td>14037</td>\n",
       "      <td>84.2</td>\n",
       "      <td>28</td>\n",
       "      <td>29</td>\n",
       "      <td>28</td>\n",
       "      <td>29</td>\n",
       "      <td>603</td>\n",
       "      <td>570</td>\n",
       "      <td>5166</td>\n",
       "      <td>3568</td>\n",
       "      <td>10853</td>\n",
       "      <td>9841</td>\n",
       "    </tr>\n",
       "    <tr>\n",
       "      <th>4</th>\n",
       "      <td>2015</td>\n",
       "      <td>16441</td>\n",
       "      <td>13020</td>\n",
       "      <td>79.2</td>\n",
       "      <td>33</td>\n",
       "      <td>31</td>\n",
       "      <td>35</td>\n",
       "      <td>35</td>\n",
       "      <td>577</td>\n",
       "      <td>544</td>\n",
       "      <td>5966</td>\n",
       "      <td>3740</td>\n",
       "      <td>9830</td>\n",
       "      <td>8670</td>\n",
       "    </tr>\n",
       "    <tr>\n",
       "      <th>5</th>\n",
       "      <td>2014</td>\n",
       "      <td>16487</td>\n",
       "      <td>12004</td>\n",
       "      <td>72.8</td>\n",
       "      <td>25</td>\n",
       "      <td>24</td>\n",
       "      <td>56</td>\n",
       "      <td>55</td>\n",
       "      <td>582</td>\n",
       "      <td>560</td>\n",
       "      <td>6203</td>\n",
       "      <td>2988</td>\n",
       "      <td>9621</td>\n",
       "      <td>8377</td>\n",
       "    </tr>\n",
       "  </tbody>\n",
       "</table>\n",
       "</div>"
      ],
      "text/plain": [
       "     년도     발생     검거   검거율  살인 발생  살인 검거  강도 발생  강도 검거  강간 발생  강간 검거  절도 발생  \\\n",
       "0  2019  13859  11597  83.7     22     21     25     26    689    650   4675   \n",
       "1  2018  14094  11980  85.0     25     24     16     16    699    665   4300   \n",
       "2  2017  16187  13540  83.6     32     32     27     26    627    591   5248   \n",
       "3  2016  16678  14037  84.2     28     29     28     29    603    570   5166   \n",
       "4  2015  16441  13020  79.2     33     31     35     35    577    544   5966   \n",
       "5  2014  16487  12004  72.8     25     24     56     55    582    560   6203   \n",
       "\n",
       "   절도 검거  폭력 발생  폭력 검거  \n",
       "0   3155   8448   7745  \n",
       "1   3048   9054   8227  \n",
       "2   3628  10253   9263  \n",
       "3   3568  10853   9841  \n",
       "4   3740   9830   8670  \n",
       "5   2988   9621   8377  "
      ]
     },
     "execution_count": 3,
     "metadata": {},
     "output_type": "execute_result"
    }
   ],
   "source": [
    "# excel 파일로 불러오기\n",
    "data = pd.read_excel(f'{path}경찰청 강원도경찰청_5대범죄 발생 및 검거 현황_20191231.xlsx')\n",
    "data"
   ]
  },
  {
   "cell_type": "code",
   "execution_count": 3,
   "metadata": {},
   "outputs": [
    {
     "name": "stdout",
     "output_type": "stream",
     "text": [
      "0    83.7\n",
      "1    85.0\n",
      "2    83.6\n",
      "3    84.2\n",
      "4    79.2\n",
      "5    72.8\n",
      "Name: 검거율, dtype: float64\n"
     ]
    },
    {
     "data": {
      "image/png": "[encoded data removed]",
      "text/plain": [
       "<Figure size 432x288 with 1 Axes>"
      ]
     },
     "metadata": {
      "needs_background": "light"
     },
     "output_type": "display_data"
    }
   ],
   "source": [
    "# 데이터 보기\n",
    "\n",
    "print(data['검거율'])\n",
    "\n",
    "plt.bar(x = data['년도'], height = data['검거율'])\n",
    "plt.ylim(0,100)\n",
    "plt.title('arrest rate (%)')\n",
    "plt.show()"
   ]
  },
  {
   "cell_type": "markdown",
   "metadata": {},
   "source": [
    "## 분산도 이해"
   ]
  },
  {
   "cell_type": "markdown",
   "metadata": {},
   "source": [
    "### 1. 범위"
   ]
  },
  {
   "cell_type": "code",
   "execution_count": 4,
   "metadata": {},
   "outputs": [
    {
     "name": "stdout",
     "output_type": "stream",
     "text": [
      "오름차순 정렬한 값 : [72.8, 79.2, 83.6, 83.7, 84.2, 85.0]\n",
      "최소값 : 72.8\n",
      "최댓값 : 85.0\n"
     ]
    }
   ],
   "source": [
    "# 오름차순 정렬\n",
    "tmp_data = sorted(data['검거율'])\n",
    "print(f'오름차순 정렬한 값 : {tmp_data}')\n",
    "\n",
    "# 최솟값과 최댓값 출력\n",
    "print(f'최소값 : {tmp_data[0]}')\n",
    "print(f'최댓값 : {tmp_data[-1]}')"
   ]
  },
  {
   "cell_type": "code",
   "execution_count": 5,
   "metadata": {},
   "outputs": [
    {
     "name": "stdout",
     "output_type": "stream",
     "text": [
      "검거율 데이터 : [83.7, 85.0, 83.6, 84.2, 79.2, 72.8]\n",
      "최솟값 : 72.8\n",
      "최댓값 : 85.0\n",
      "검거율 데이터의 범위는 최소 72.8에서 최대 85.0로 12.2의 범위를 가지고 있습니다.\n"
     ]
    }
   ],
   "source": [
    "# max, min 매서드 활용\n",
    "print(f'검거율 데이터 : {data.검거율.tolist()}')\n",
    "\n",
    "print(f'최솟값 : {min(data.검거율)}')\n",
    "print(f'최댓값 : {max(data.검거율)}')\n",
    "\n",
    "# 따라서 범위는 최댓값 - 최솟값으로 출력할 수 있음.\n",
    "print(f'검거율 데이터의 범위는 최소 {min(data.검거율)}에서 최대 {max(data.검거율)}로 {round(max(data.검거율) - min(data.검거율),2)}의 범위를 가지고 있습니다.')\n"
   ]
  },
  {
   "cell_type": "code",
   "execution_count": 58,
   "metadata": {},
   "outputs": [
    {
     "name": "stdout",
     "output_type": "stream",
     "text": [
      "검거율 데이터 : [83.7, 85.0, 83.6, 84.2, 79.2, 72.8]\n",
      "최솟값 : 72.8\n",
      "최댓값 : 85.0\n",
      "'검거율' 데이터의 범위는 최소 72.8에서 최대 85.0로 12.2의 범위를 가지고 있습니다.\n"
     ]
    }
   ],
   "source": [
    "def min_max(data, columns):\n",
    "    print(f'검거율 데이터 : {data[columns].tolist()}')\n",
    "    print(f'최솟값 : {min(data[columns])}')\n",
    "    print(f'최댓값 : {max(data[columns])}')\n",
    "    print(f\"'{columns}' 데이터의 범위는 최소 {min(data[columns])}에서 최대 {max(data[columns])}로 {round(max(data[columns]) - min(data[columns]),2)}의 범위를 가지고 있습니다.\")\n",
    "\n",
    "min_max(data, '검거율')\n"
   ]
  },
  {
   "cell_type": "markdown",
   "metadata": {},
   "source": [
    "### 2. 분산"
   ]
  },
  {
   "cell_type": "code",
   "execution_count": 6,
   "metadata": {},
   "outputs": [
    {
     "data": {
      "text/plain": [
       "100"
      ]
     },
     "execution_count": 6,
     "metadata": {},
     "output_type": "execute_result"
    }
   ],
   "source": [
    "# 참고 (n번 제곱을 시행하는 pow 함수 활용법)\n",
    "x = 10\n",
    "n = 2\n",
    "\n",
    "pow(x, n)"
   ]
  },
  {
   "cell_type": "code",
   "execution_count": 7,
   "metadata": {},
   "outputs": [
    {
     "name": "stdout",
     "output_type": "stream",
     "text": [
      "[ 5.21361111 12.84027778  4.76694444  7.74694444  4.91361111 74.24694444]\n",
      "편차의 제곱합의 평균, 즉 분산은 18.288055555555562입니다.\n"
     ]
    }
   ],
   "source": [
    "n = len(data)\n",
    "m = data['검거율'].mean()\n",
    "\n",
    "# 제곱을 해주는 매서드 pow를 활용하여 편차의 제곱 도출\n",
    "# 편차 = 변량 - 평균\n",
    "print(pow(data['검거율']-m, 2).values)\n",
    "resid = pow(data['검거율']-m, 2)\n",
    "\n",
    "# 제곱합을 한 후, 변량의 개수로 나눠주면 분산 도출\n",
    "print(f'편차의 제곱합의 평균, 즉 분산은 {sum(resid)/n}입니다.')"
   ]
  },
  {
   "cell_type": "code",
   "execution_count": 60,
   "metadata": {},
   "outputs": [],
   "source": [
    "def varianve(data, columns):\n",
    "    n = len(data)\n",
    "    m = data[columns].mean()\n",
    "\n",
    "    # 제곱을 해주는 매서드 pow를 활용하여 편차의 제곱 도출\n",
    "    # 편차 = 변량 - 평균\n",
    "    print(pow(data[columns]-m, 2).values)\n",
    "    resid = pow(data[columns]-m, 2)\n",
    "\n",
    "    # 제곱합을 한 후, 변량의 개수로 나눠주면 분산 도출\n",
    "    print(f'편차의 제곱합의 평균, 즉 분산은 {sum(resid)/n}입니다.')"
   ]
  },
  {
   "cell_type": "code",
   "execution_count": 8,
   "metadata": {},
   "outputs": [
    {
     "data": {
      "text/plain": [
       "18.288055555555562"
      ]
     },
     "execution_count": 8,
     "metadata": {},
     "output_type": "execute_result"
    }
   ],
   "source": [
    "# numpy의 var 매서드를 활용한 분산 도출\n",
    "\n",
    "np.var(data['검거율'])"
   ]
  },
  {
   "cell_type": "markdown",
   "metadata": {},
   "source": [
    "### 3. 표준편차"
   ]
  },
  {
   "cell_type": "code",
   "execution_count": 9,
   "metadata": {},
   "outputs": [
    {
     "name": "stdout",
     "output_type": "stream",
     "text": [
      "4.2764536190113835\n",
      "4.2764536190113835\n"
     ]
    }
   ],
   "source": [
    "# 표준편차는 분산의 제곱근입니다.\n",
    "print(pow(np.var(data['검거율']),1/2))\n",
    "\n",
    "# numpy의 std 매서드를 활용한 표준편차 도출\n",
    "print(np.std((data['검거율'])))"
   ]
  },
  {
   "cell_type": "markdown",
   "metadata": {},
   "source": [
    "### 4. 왜도"
   ]
  },
  {
   "cell_type": "code",
   "execution_count": 10,
   "metadata": {},
   "outputs": [
    {
     "name": "stdout",
     "output_type": "stream",
     "text": [
      "편차/표쥰편차의 3제곱 : [0.15221471952912077, 0.5883155534071843, 0.13307878810919258, 0.2757048232048489, -0.13926753001584538, -8.180250057837027]\n",
      "왜도 : -1.1950339506004208\n"
     ]
    }
   ],
   "source": [
    "# 변수 설정\n",
    "n = len(data['검거율'])\n",
    "m = data['검거율'].mean()\n",
    "std = np.std(data['검거율'])\n",
    "\n",
    "# 편차/표쥰편차 값에 3제곱 시행 \n",
    "tmp_result = pow((data['검거율'] - m)/std, 3)\n",
    "print(f'편차/표쥰편차의 3제곱 : {tmp_result.tolist()}')\n",
    "\n",
    "# 3제곱 한 값을 더하고 데이터 개수만큼 나누면 왜도 도출\n",
    "result = sum(tmp_result)/n\n",
    "print(f'왜도 : {result}')"
   ]
  },
  {
   "cell_type": "code",
   "execution_count": 11,
   "metadata": {},
   "outputs": [
    {
     "data": {
      "text/plain": [
       "-1.1950339506004208"
      ]
     },
     "execution_count": 11,
     "metadata": {},
     "output_type": "execute_result"
    }
   ],
   "source": [
    "# 함수화 작업\n",
    "def skewness(data):\n",
    "    n = len(data)\n",
    "    m = data.mean()\n",
    "    std = np.std(data)\n",
    "    \n",
    "    tmp_result = pow((data - m)/std, 3)\n",
    "    result = sum(tmp_result)/n\n",
    "    return result\n",
    "\n",
    "\n",
    "skewness(data['검거율'])"
   ]
  },
  {
   "cell_type": "code",
   "execution_count": 35,
   "metadata": {},
   "outputs": [
    {
     "data": {
      "text/plain": [
       "-1.6363676293209124"
      ]
     },
     "execution_count": 35,
     "metadata": {},
     "output_type": "execute_result"
    }
   ],
   "source": [
    "# 파이썬 기본 함수 사용\n",
    "\n",
    "data['검거율'].skew()"
   ]
  },
  {
   "cell_type": "code",
   "execution_count": 12,
   "metadata": {},
   "outputs": [
    {
     "data": {
      "text/plain": [
       "-1.195033950600421"
      ]
     },
     "execution_count": 12,
     "metadata": {},
     "output_type": "execute_result"
    }
   ],
   "source": [
    "# 라이브러리 import로 구한 skew\n",
    "from scipy.stats import skew\n",
    "\n",
    "skew(data['검거율'])"
   ]
  },
  {
   "cell_type": "markdown",
   "metadata": {},
   "source": [
    "### 5. 첨도"
   ]
  },
  {
   "cell_type": "code",
   "execution_count": 13,
   "metadata": {},
   "outputs": [
    {
     "name": "stdout",
     "output_type": "stream",
     "text": [
      "편차/표쥰편차의 4제곱 : [0.0812722348676314, 0.49296237510223684, 0.0679430621547515, 0.1794427095328182, 0.07218824732781522, 16.482462871807613]\n",
      "첨도 : -0.10395474986785525\n"
     ]
    }
   ],
   "source": [
    "# 변수 설정\n",
    "n = len(data['검거율'])\n",
    "m = data['검거율'].mean()\n",
    "std = np.std(data['검거율'])\n",
    "\n",
    "# 편차/표준편차의 4제곱 시행\n",
    "tmp_result = pow(((data['검거율'] - m) / std), 4)\n",
    "print(f'편차/표쥰편차의 4제곱 : {tmp_result.tolist()}')\n",
    "\n",
    "# 4제곱 한 값을 더하고 데이터 개수만큼 나누고 -3을 하면 첨도 도출\n",
    "result = sum(tmp_result)/n - 3\n",
    "print(f'첨도 : {result}')"
   ]
  },
  {
   "cell_type": "code",
   "execution_count": 38,
   "metadata": {},
   "outputs": [
    {
     "data": {
      "text/plain": [
       "-0.10395474986785525"
      ]
     },
     "execution_count": 38,
     "metadata": {},
     "output_type": "execute_result"
    }
   ],
   "source": [
    "# 함수화\n",
    "def kurtosis_self(data):\n",
    "    n = len(data)\n",
    "    m = data.mean()\n",
    "    std = np.std(data)\n",
    "    \n",
    "    tmp_result = pow(((data - m) / std), 4)\n",
    "    result = sum(tmp_result)/n - 3\n",
    "    return result\n",
    "\n",
    "kurtosis_self(data['검거율'])"
   ]
  },
  {
   "cell_type": "code",
   "execution_count": 39,
   "metadata": {},
   "outputs": [
    {
     "data": {
      "text/plain": [
       "-0.10395474986785525"
      ]
     },
     "execution_count": 39,
     "metadata": {},
     "output_type": "execute_result"
    }
   ],
   "source": [
    "# 라이브러리 import로 구한 kurtosis\n",
    "from scipy.stats import kurtosis\n",
    "\n",
    "kurtosis(data['검거율'])"
   ]
  },
  {
   "cell_type": "code",
   "execution_count": 53,
   "metadata": {},
   "outputs": [
    {
     "name": "stdout",
     "output_type": "stream",
     "text": [
      "데이터 컬럼 명 '검거율'의 count는 6.0입니다.\n",
      "데이터 컬럼 명 '검거율'의 mean는 81.42입니다.\n",
      "데이터 컬럼 명 '검거율'의 std는 4.68입니다.\n",
      "데이터 컬럼 명 '검거율'의 std는 4.68입니다.\n",
      "데이터 컬럼 명 '검거율'의 min는 72.8입니다.\n",
      "데이터 컬럼 명 '검거율'의 max는 85.0입니다.\n"
     ]
    }
   ],
   "source": [
    "def describe_data(data, column, returns = True):\n",
    "    \"\"\"[summary]\n",
    "\n",
    "    Args:\n",
    "        data ([dataframe]): [데이터프레임 이름을 입력합니다]\n",
    "        column ([string]): [컬럼명을 입력합니다]\n",
    "        returns (bool, optional): [describe()함수를 이용한 출력 결과를 표시하는지 여부입니다.]. 기본값은 True입니다.\n",
    "\n",
    "    Returns:\n",
    "        [type]: [describe()함수를 이용한 출력 결과를 표시]\n",
    "    \"\"\"\n",
    "    \n",
    "    for i in [0,1,2,2,3,7]:\n",
    "        print(f\"데이터 컬럼 명 '{column}'의 {data[column].describe().index[i]}는 \\\n",
    "            {round(data[column].describe()[i],2)}입니다.\")\n",
    "        \n",
    "    if returns == True:\n",
    "        return data[column].describe()\n",
    "    else :\n",
    "        return \n",
    "\n",
    "# describe_data(data, '검거율')\n",
    "describe_data(data, '검거율', returns = False)"
   ]
  }
 ],
 "metadata": {
  "interpreter": {
   "hash": "aee8b7b246df8f9039afb4144a1f6fd8d2ca17a180786b69acc140d282b71a49"
  },
  "kernelspec": {
   "display_name": "Python 3.9.4 64-bit",
   "language": "python",
   "name": "python3"
  },
  "language_info": {
   "codemirror_mode": {
    "name": "ipython",
    "version": 3
   },
   "file_extension": ".py",
   "mimetype": "text/x-python",
   "name": "python",
   "nbconvert_exporter": "python",
   "pygments_lexer": "ipython3",
   "version": "3.9.4"
  },
  "orig_nbformat": 4
 },
 "nbformat": 4,
 "nbformat_minor": 2
}
