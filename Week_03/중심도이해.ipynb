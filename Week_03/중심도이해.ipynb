{
 "cells": [
  {
   "cell_type": "code",
   "execution_count": 1,
   "metadata": {},
   "outputs": [],
   "source": [
    "# 필요한 라이브러리 호출\n",
    "import pandas as pd\n",
    "import matplotlib.pyplot as plt"
   ]
  },
  {
   "cell_type": "code",
   "execution_count": 2,
   "metadata": {},
   "outputs": [],
   "source": [
    "# 파일 불러오기를 위한 Path 설정 (데이터를 불러오는 경로를 개인별로 설정)\n",
    "path = '../dataset/'"
   ]
  },
  {
   "cell_type": "markdown",
   "metadata": {},
   "source": [
    "## 데이터 URL\n",
    "https://www.data.go.kr/data/15070037/fileData.do\n",
    "\n",
    "### 설명\n",
    "- 강원도내에서 발생한 5대범죄 발생 및 검거 현황을 연도별로 제공하는 데이터입니다.(2014-2019)\n",
    "- 살인/강도/강간/절도/폭력 사건에 대해 발생건수와 검거건수를 제공합니다."
   ]
  },
  {
   "cell_type": "code",
   "execution_count": 3,
   "metadata": {},
   "outputs": [
    {
     "data": {
      "text/html": [
       "<div>\n",
       "<style scoped>\n",
       "    .dataframe tbody tr th:only-of-type {\n",
       "        vertical-align: middle;\n",
       "    }\n",
       "\n",
       "    .dataframe tbody tr th {\n",
       "        vertical-align: top;\n",
       "    }\n",
       "\n",
       "    .dataframe thead th {\n",
       "        text-align: right;\n",
       "    }\n",
       "</style>\n",
       "<table border=\"1\" class=\"dataframe\">\n",
       "  <thead>\n",
       "    <tr style=\"text-align: right;\">\n",
       "      <th></th>\n",
       "      <th>년도</th>\n",
       "      <th>발생</th>\n",
       "      <th>검거</th>\n",
       "      <th>검거율</th>\n",
       "      <th>살인 발생</th>\n",
       "      <th>살인 검거</th>\n",
       "      <th>강도 발생</th>\n",
       "      <th>강도 검거</th>\n",
       "      <th>강간 발생</th>\n",
       "      <th>강간 검거</th>\n",
       "      <th>절도 발생</th>\n",
       "      <th>절도 검거</th>\n",
       "      <th>폭력 발생</th>\n",
       "      <th>폭력 검거</th>\n",
       "    </tr>\n",
       "  </thead>\n",
       "  <tbody>\n",
       "    <tr>\n",
       "      <th>0</th>\n",
       "      <td>2019</td>\n",
       "      <td>13859</td>\n",
       "      <td>11597</td>\n",
       "      <td>83.7</td>\n",
       "      <td>22</td>\n",
       "      <td>21</td>\n",
       "      <td>25</td>\n",
       "      <td>26</td>\n",
       "      <td>689</td>\n",
       "      <td>650</td>\n",
       "      <td>4675</td>\n",
       "      <td>3155</td>\n",
       "      <td>8448</td>\n",
       "      <td>7745</td>\n",
       "    </tr>\n",
       "    <tr>\n",
       "      <th>1</th>\n",
       "      <td>2018</td>\n",
       "      <td>14094</td>\n",
       "      <td>11980</td>\n",
       "      <td>85.0</td>\n",
       "      <td>25</td>\n",
       "      <td>24</td>\n",
       "      <td>16</td>\n",
       "      <td>16</td>\n",
       "      <td>699</td>\n",
       "      <td>665</td>\n",
       "      <td>4300</td>\n",
       "      <td>3048</td>\n",
       "      <td>9054</td>\n",
       "      <td>8227</td>\n",
       "    </tr>\n",
       "    <tr>\n",
       "      <th>2</th>\n",
       "      <td>2017</td>\n",
       "      <td>16187</td>\n",
       "      <td>13540</td>\n",
       "      <td>83.6</td>\n",
       "      <td>32</td>\n",
       "      <td>32</td>\n",
       "      <td>27</td>\n",
       "      <td>26</td>\n",
       "      <td>627</td>\n",
       "      <td>591</td>\n",
       "      <td>5248</td>\n",
       "      <td>3628</td>\n",
       "      <td>10253</td>\n",
       "      <td>9263</td>\n",
       "    </tr>\n",
       "    <tr>\n",
       "      <th>3</th>\n",
       "      <td>2016</td>\n",
       "      <td>16678</td>\n",
       "      <td>14037</td>\n",
       "      <td>84.2</td>\n",
       "      <td>28</td>\n",
       "      <td>29</td>\n",
       "      <td>28</td>\n",
       "      <td>29</td>\n",
       "      <td>603</td>\n",
       "      <td>570</td>\n",
       "      <td>5166</td>\n",
       "      <td>3568</td>\n",
       "      <td>10853</td>\n",
       "      <td>9841</td>\n",
       "    </tr>\n",
       "    <tr>\n",
       "      <th>4</th>\n",
       "      <td>2015</td>\n",
       "      <td>16441</td>\n",
       "      <td>13020</td>\n",
       "      <td>79.2</td>\n",
       "      <td>33</td>\n",
       "      <td>31</td>\n",
       "      <td>35</td>\n",
       "      <td>35</td>\n",
       "      <td>577</td>\n",
       "      <td>544</td>\n",
       "      <td>5966</td>\n",
       "      <td>3740</td>\n",
       "      <td>9830</td>\n",
       "      <td>8670</td>\n",
       "    </tr>\n",
       "    <tr>\n",
       "      <th>5</th>\n",
       "      <td>2014</td>\n",
       "      <td>16487</td>\n",
       "      <td>12004</td>\n",
       "      <td>72.8</td>\n",
       "      <td>25</td>\n",
       "      <td>24</td>\n",
       "      <td>56</td>\n",
       "      <td>55</td>\n",
       "      <td>582</td>\n",
       "      <td>560</td>\n",
       "      <td>6203</td>\n",
       "      <td>2988</td>\n",
       "      <td>9621</td>\n",
       "      <td>8377</td>\n",
       "    </tr>\n",
       "  </tbody>\n",
       "</table>\n",
       "</div>"
      ],
      "text/plain": [
       "     년도     발생     검거   검거율  살인 발생  살인 검거  강도 발생  강도 검거  강간 발생  강간 검거  절도 발생  \\\n",
       "0  2019  13859  11597  83.7     22     21     25     26    689    650   4675   \n",
       "1  2018  14094  11980  85.0     25     24     16     16    699    665   4300   \n",
       "2  2017  16187  13540  83.6     32     32     27     26    627    591   5248   \n",
       "3  2016  16678  14037  84.2     28     29     28     29    603    570   5166   \n",
       "4  2015  16441  13020  79.2     33     31     35     35    577    544   5966   \n",
       "5  2014  16487  12004  72.8     25     24     56     55    582    560   6203   \n",
       "\n",
       "   절도 검거  폭력 발생  폭력 검거  \n",
       "0   3155   8448   7745  \n",
       "1   3048   9054   8227  \n",
       "2   3628  10253   9263  \n",
       "3   3568  10853   9841  \n",
       "4   3740   9830   8670  \n",
       "5   2988   9621   8377  "
      ]
     },
     "execution_count": 3,
     "metadata": {},
     "output_type": "execute_result"
    }
   ],
   "source": [
    "# CSV 파일로 불러오기\n",
    "data = pd.read_csv(f'{path}경찰청 강원도경찰청_5대범죄 발생 및 검거 현황_20191231.csv')\n",
    "data"
   ]
  },
  {
   "cell_type": "code",
   "execution_count": 4,
   "metadata": {},
   "outputs": [
    {
     "data": {
      "text/html": [
       "<div>\n",
       "<style scoped>\n",
       "    .dataframe tbody tr th:only-of-type {\n",
       "        vertical-align: middle;\n",
       "    }\n",
       "\n",
       "    .dataframe tbody tr th {\n",
       "        vertical-align: top;\n",
       "    }\n",
       "\n",
       "    .dataframe thead th {\n",
       "        text-align: right;\n",
       "    }\n",
       "</style>\n",
       "<table border=\"1\" class=\"dataframe\">\n",
       "  <thead>\n",
       "    <tr style=\"text-align: right;\">\n",
       "      <th></th>\n",
       "      <th>년도</th>\n",
       "      <th>발생</th>\n",
       "      <th>검거</th>\n",
       "      <th>검거율</th>\n",
       "      <th>살인 발생</th>\n",
       "      <th>살인 검거</th>\n",
       "      <th>강도 발생</th>\n",
       "      <th>강도 검거</th>\n",
       "      <th>강간 발생</th>\n",
       "      <th>강간 검거</th>\n",
       "      <th>절도 발생</th>\n",
       "      <th>절도 검거</th>\n",
       "      <th>폭력 발생</th>\n",
       "      <th>폭력 검거</th>\n",
       "    </tr>\n",
       "  </thead>\n",
       "  <tbody>\n",
       "    <tr>\n",
       "      <th>0</th>\n",
       "      <td>2019</td>\n",
       "      <td>13859</td>\n",
       "      <td>11597</td>\n",
       "      <td>83.7</td>\n",
       "      <td>22</td>\n",
       "      <td>21</td>\n",
       "      <td>25</td>\n",
       "      <td>26</td>\n",
       "      <td>689</td>\n",
       "      <td>650</td>\n",
       "      <td>4675</td>\n",
       "      <td>3155</td>\n",
       "      <td>8448</td>\n",
       "      <td>7745</td>\n",
       "    </tr>\n",
       "    <tr>\n",
       "      <th>1</th>\n",
       "      <td>2018</td>\n",
       "      <td>14094</td>\n",
       "      <td>11980</td>\n",
       "      <td>85.0</td>\n",
       "      <td>25</td>\n",
       "      <td>24</td>\n",
       "      <td>16</td>\n",
       "      <td>16</td>\n",
       "      <td>699</td>\n",
       "      <td>665</td>\n",
       "      <td>4300</td>\n",
       "      <td>3048</td>\n",
       "      <td>9054</td>\n",
       "      <td>8227</td>\n",
       "    </tr>\n",
       "    <tr>\n",
       "      <th>2</th>\n",
       "      <td>2017</td>\n",
       "      <td>16187</td>\n",
       "      <td>13540</td>\n",
       "      <td>83.6</td>\n",
       "      <td>32</td>\n",
       "      <td>32</td>\n",
       "      <td>27</td>\n",
       "      <td>26</td>\n",
       "      <td>627</td>\n",
       "      <td>591</td>\n",
       "      <td>5248</td>\n",
       "      <td>3628</td>\n",
       "      <td>10253</td>\n",
       "      <td>9263</td>\n",
       "    </tr>\n",
       "    <tr>\n",
       "      <th>3</th>\n",
       "      <td>2016</td>\n",
       "      <td>16678</td>\n",
       "      <td>14037</td>\n",
       "      <td>84.2</td>\n",
       "      <td>28</td>\n",
       "      <td>29</td>\n",
       "      <td>28</td>\n",
       "      <td>29</td>\n",
       "      <td>603</td>\n",
       "      <td>570</td>\n",
       "      <td>5166</td>\n",
       "      <td>3568</td>\n",
       "      <td>10853</td>\n",
       "      <td>9841</td>\n",
       "    </tr>\n",
       "    <tr>\n",
       "      <th>4</th>\n",
       "      <td>2015</td>\n",
       "      <td>16441</td>\n",
       "      <td>13020</td>\n",
       "      <td>79.2</td>\n",
       "      <td>33</td>\n",
       "      <td>31</td>\n",
       "      <td>35</td>\n",
       "      <td>35</td>\n",
       "      <td>577</td>\n",
       "      <td>544</td>\n",
       "      <td>5966</td>\n",
       "      <td>3740</td>\n",
       "      <td>9830</td>\n",
       "      <td>8670</td>\n",
       "    </tr>\n",
       "    <tr>\n",
       "      <th>5</th>\n",
       "      <td>2014</td>\n",
       "      <td>16487</td>\n",
       "      <td>12004</td>\n",
       "      <td>72.8</td>\n",
       "      <td>25</td>\n",
       "      <td>24</td>\n",
       "      <td>56</td>\n",
       "      <td>55</td>\n",
       "      <td>582</td>\n",
       "      <td>560</td>\n",
       "      <td>6203</td>\n",
       "      <td>2988</td>\n",
       "      <td>9621</td>\n",
       "      <td>8377</td>\n",
       "    </tr>\n",
       "  </tbody>\n",
       "</table>\n",
       "</div>"
      ],
      "text/plain": [
       "     년도     발생     검거   검거율  살인 발생  살인 검거  강도 발생  강도 검거  강간 발생  강간 검거  절도 발생  \\\n",
       "0  2019  13859  11597  83.7     22     21     25     26    689    650   4675   \n",
       "1  2018  14094  11980  85.0     25     24     16     16    699    665   4300   \n",
       "2  2017  16187  13540  83.6     32     32     27     26    627    591   5248   \n",
       "3  2016  16678  14037  84.2     28     29     28     29    603    570   5166   \n",
       "4  2015  16441  13020  79.2     33     31     35     35    577    544   5966   \n",
       "5  2014  16487  12004  72.8     25     24     56     55    582    560   6203   \n",
       "\n",
       "   절도 검거  폭력 발생  폭력 검거  \n",
       "0   3155   8448   7745  \n",
       "1   3048   9054   8227  \n",
       "2   3628  10253   9263  \n",
       "3   3568  10853   9841  \n",
       "4   3740   9830   8670  \n",
       "5   2988   9621   8377  "
      ]
     },
     "execution_count": 4,
     "metadata": {},
     "output_type": "execute_result"
    }
   ],
   "source": [
    "# excel 파일로 불러오기\n",
    "data = pd.read_excel(f'{path}경찰청 강원도경찰청_5대범죄 발생 및 검거 현황_20191231.xlsx')\n",
    "data"
   ]
  },
  {
   "cell_type": "markdown",
   "metadata": {},
   "source": [
    "# 중심도 이해\n"
   ]
  },
  {
   "cell_type": "code",
   "execution_count": 79,
   "metadata": {},
   "outputs": [
    {
     "name": "stdout",
     "output_type": "stream",
     "text": [
      "0    83.7\n",
      "1    85.0\n",
      "2    83.6\n",
      "3    84.2\n",
      "4    79.2\n",
      "5    72.8\n",
      "Name: 검거율, dtype: float64\n"
     ]
    },
    {
     "data": {
      "image/png": "[encoded data removed]",
      "text/plain": [
       "<Figure size 432x288 with 1 Axes>"
      ]
     },
     "metadata": {
      "needs_background": "light"
     },
     "output_type": "display_data"
    }
   ],
   "source": [
    "# 데이터 보기\n",
    "\n",
    "print(data['검거율'])\n",
    "\n",
    "plt.bar(x = data['년도'], height = data['검거율'])\n",
    "plt.ylim(0,100)\n",
    "plt.title('arrest rate (%)')\n",
    "plt.show()"
   ]
  },
  {
   "cell_type": "markdown",
   "metadata": {},
   "source": [
    "### 평균값\n",
    "\n",
    "#### 1. 산술평균"
   ]
  },
  {
   "cell_type": "code",
   "execution_count": 13,
   "metadata": {},
   "outputs": [
    {
     "name": "stdout",
     "output_type": "stream",
     "text": [
      "81.41666666666667\n",
      "81.41666666666667\n",
      "81.42\n"
     ]
    }
   ],
   "source": [
    "# 데이터의 평균값을 도출해보기 (전체 합 / 전체 데이터 개수)\n",
    "\n",
    "print(data['검거율'].sum()/len(data['검거율']))\n",
    "\n",
    "print(data['검거율'].mean())\n",
    "\n",
    "# 만약, 소수점 2째 자리까지만 출력하는 경우 (round 반올림 함수 이용)\n",
    "\n",
    "print(round(data['검거율'].mean(), 2))"
   ]
  },
  {
   "cell_type": "code",
   "execution_count": 11,
   "metadata": {},
   "outputs": [
    {
     "name": "stdout",
     "output_type": "stream",
     "text": [
      "해당 데이터의 컬럼 중 검거율의 평균값(mean)은 81.41666666666667 입니다.\n"
     ]
    }
   ],
   "source": [
    "# 평균값 도출을 위한 함수입니다.\n",
    "def mean(data, column_name):\n",
    "    print(f'해당 데이터의 컬럼 중 {column_name}의 평균값(mean)은 {data[column_name].mean()} 입니다.')\n",
    "\n",
    "mean(data, '검거율')"
   ]
  },
  {
   "cell_type": "markdown",
   "metadata": {},
   "source": [
    "#### 2. 기하평균"
   ]
  },
  {
   "cell_type": "code",
   "execution_count": 86,
   "metadata": {},
   "outputs": [
    {
     "name": "stdout",
     "output_type": "stream",
     "text": [
      "[83.7, 85.0, 83.6, 84.2, 79.2, 72.8] 내의 모든 값을 곱하면 288748218581.22235가 됩니다.\n",
      "해당 데이터의 기하평균 값은 81.29925245027714 입니다.\n"
     ]
    }
   ],
   "source": [
    "# 변수 설정\n",
    "tem_data = data['검거율'].tolist()\n",
    "mulScores = 1 # 곱셈에 대한 항등원 1\n",
    "\n",
    "# 항목들로 반복 (tem_data의 모든 항목을 곱셈하기 위한 코드)\n",
    "for item in tem_data:\n",
    "    mulScores *= item\n",
    "print(f'{tem_data} 내의 모든 값을 곱하면 {mulScores}가 됩니다.')    \n",
    "\n",
    "# 제곱 연산자 '**'로 기하평균을 도츌합니다.\n",
    "geometricMean1 = mulScores ** (1/len(tem_data)) \n",
    "print(f'해당 데이터의 기하평균 값은 {geometricMean1} 입니다.')"
   ]
  },
  {
   "cell_type": "markdown",
   "metadata": {},
   "source": [
    "#### 3. 가중평균"
   ]
  },
  {
   "cell_type": "code",
   "execution_count": 8,
   "metadata": {},
   "outputs": [
    {
     "name": "stdout",
     "output_type": "stream",
     "text": [
      "0    13859\n",
      "1    14094\n",
      "2    16187\n",
      "3    16678\n",
      "4    16441\n",
      "5    16487\n",
      "Name: 발생, dtype: int64\n"
     ]
    },
    {
     "data": {
      "image/png": "[encoded data removed]",
      "text/plain": [
       "<Figure size 432x288 with 1 Axes>"
      ]
     },
     "metadata": {
      "needs_background": "light"
     },
     "output_type": "display_data"
    }
   ],
   "source": [
    "# 데이터 보기\n",
    "\n",
    "print(data['발생'])\n",
    "\n",
    "plt.bar(x = data['년도'], height = data['발생'])\n",
    "plt.title('crime accurs')\n",
    "plt.show()"
   ]
  },
  {
   "cell_type": "code",
   "execution_count": 101,
   "metadata": {},
   "outputs": [
    {
     "name": "stdout",
     "output_type": "stream",
     "text": [
      "가중치 : [13859, 14094, 16187, 16678, 16441, 16487]\n",
      "검거율 : [83.7, 85.0, 83.6, 84.2, 79.2, 72.8]\n",
      "검거율의 범죄 발생에 대한 가중평균 값 : 81.26095940093444\n"
     ]
    }
   ],
   "source": [
    "# 가중치는 범죄 발생으로 설정하고 검거율의 가중평균을 시행해봅니다.\n",
    "\n",
    "print('가중치 :',data['발생'].tolist())\n",
    "print('검거율 :',data['검거율'].tolist())\n",
    "\n",
    "weight = data['발생']\n",
    "tem_data = data['검거율']\n",
    "\n",
    "print('검거율의 범죄 발생에 대한 가중평균 값 :', sum(tem_data * weight)/sum(weight))"
   ]
  },
  {
   "cell_type": "markdown",
   "metadata": {},
   "source": [
    "#### 4. 절사평균"
   ]
  },
  {
   "cell_type": "code",
   "execution_count": 105,
   "metadata": {},
   "outputs": [
    {
     "name": "stdout",
     "output_type": "stream",
     "text": [
      "15.0% 비율로 절사한 후 data는 [85.0, 83.6, 84.2, 79.2]입니다.\n",
      "15.0% 비율로 절사한 후 data의 평균은 83.0입니다.\n"
     ]
    }
   ],
   "source": [
    "# 인덱스 슬라이싱을 적용하여 tem_data 내에서 절사 시행\n",
    "\n",
    "# 변수 설정\n",
    "cut = 0.15\n",
    "n = len(data)\n",
    "tem_data = data['검거율']\n",
    "cut_data = round(n * cut)\n",
    "\n",
    "# 인덱싱 데이터 출력\n",
    "print(f'{cut*100}% 비율로 절사한 후 data는 {tem_data[cut_data : -cut_data].tolist()}입니다.')\n",
    "\n",
    "# 인덱싱 후 데이터의 평균 출력\n",
    "print(f'{cut*100}% 비율로 절사한 후 data의 평균은 {tem_data[cut_data : -cut_data].mean()}입니다.')"
   ]
  },
  {
   "cell_type": "markdown",
   "metadata": {},
   "source": [
    "### 중위값 도출"
   ]
  },
  {
   "cell_type": "code",
   "execution_count": 106,
   "metadata": {},
   "outputs": [
    {
     "name": "stdout",
     "output_type": "stream",
     "text": [
      "0    83.7\n",
      "1    85.0\n",
      "2    83.6\n",
      "3    84.2\n",
      "4    79.2\n",
      "5    72.8\n",
      "Name: 검거율, dtype: float64\n"
     ]
    }
   ],
   "source": [
    "# 데이터 보기\n",
    "\n",
    "print(data['검거율'])"
   ]
  },
  {
   "cell_type": "code",
   "execution_count": 53,
   "metadata": {},
   "outputs": [
    {
     "name": "stdout",
     "output_type": "stream",
     "text": [
      "[72.8, 79.2, 83.6, 83.7, 84.2, 85.0]\n",
      "3\n",
      "83.65\n"
     ]
    }
   ],
   "source": [
    "# 하나씩 실행해보는 부분\n",
    "\n",
    "# 오름차순으로 정렬한 검거율 데이터를 따로 형성\n",
    "tem_data = sorted(data['검거율'])\n",
    "print(tem_data)\n",
    "\n",
    "# 검거율 데이터의 길이를 2로 나눈 몫을 출력\n",
    "center = len(tem_data) // 2\n",
    "print(center)\n",
    "\n",
    "# 인덱스로 접근하여 tem_data의 3번째 값과 -4번째 (= 2번째) 값을 더한 후 2로 나눠준다.\n",
    "# 참고로 인덱스는 0부터 시작한다.\n",
    "print((tem_data[center] + tem_data[-center - 1])/2)"
   ]
  },
  {
   "cell_type": "code",
   "execution_count": 107,
   "metadata": {},
   "outputs": [
    {
     "name": "stdout",
     "output_type": "stream",
     "text": [
      "해당 데이터의 컬럼 중 검거율의 중위값(median)은 83.65 입니다.\n"
     ]
    }
   ],
   "source": [
    "# 중위값(median) 도출을 위한 함수입니다. (파이썬 함수를 활용한 중위값 출력 부분)\n",
    "def mean(data = data, column_name = '발생'):\n",
    "    print(f'해당 데이터의 컬럼 중 {column_name}의 중위값(median)은 {data[column_name].median()} 입니다.')\n",
    "    \n",
    "mean(data, '검거율')"
   ]
  }
 ],
 "metadata": {
  "interpreter": {
   "hash": "aee8b7b246df8f9039afb4144a1f6fd8d2ca17a180786b69acc140d282b71a49"
  },
  "kernelspec": {
   "display_name": "Python 3.9.4 64-bit",
   "language": "python",
   "name": "python3"
  },
  "language_info": {
   "codemirror_mode": {
    "name": "ipython",
    "version": 3
   },
   "file_extension": ".py",
   "mimetype": "text/x-python",
   "name": "python",
   "nbconvert_exporter": "python",
   "pygments_lexer": "ipython3",
   "version": "3.9.4"
  },
  "orig_nbformat": 4
 },
 "nbformat": 4,
 "nbformat_minor": 2
}
